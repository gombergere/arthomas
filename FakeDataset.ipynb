{
  "nbformat": 4,
  "nbformat_minor": 0,
  "metadata": {
    "colab": {
      "name": "FakeDataset.ipynb",
      "provenance": [],
      "collapsed_sections": [],
      "include_colab_link": true
    },
    "kernelspec": {
      "name": "python3",
      "display_name": "Python 3"
    },
    "accelerator": "GPU"
  },
  "cells": [
    {
      "cell_type": "markdown",
      "metadata": {
        "id": "view-in-github",
        "colab_type": "text"
      },
      "source": [
        "<a href=\"https://colab.research.google.com/github/gombergere/arthomas/blob/master/FakeDataset.ipynb\" target=\"_parent\"><img src=\"https://colab.research.google.com/assets/colab-badge.svg\" alt=\"Open In Colab\"/></a>"
      ]
    },
    {
      "cell_type": "code",
      "metadata": {
        "id": "6bssAmmHzyan",
        "colab_type": "code",
        "colab": {}
      },
      "source": [
        "#https://towardsdatascience.com/dataset-unavailable-no-problem-b5031311d59d"
      ],
      "execution_count": 0,
      "outputs": []
    },
    {
      "cell_type": "code",
      "metadata": {
        "id": "RblNQMYUuUFX",
        "colab_type": "code",
        "colab": {}
      },
      "source": [
        "import numpy as np\n",
        "import pandas as pd\n",
        "import seaborn as sns\n",
        "import matplotlib.pyplot as plt\n",
        "%matplotlib inline\n",
        "plt.style.use('ggplot')"
      ],
      "execution_count": 0,
      "outputs": []
    },
    {
      "cell_type": "code",
      "metadata": {
        "id": "NIuwb195ujaV",
        "colab_type": "code",
        "colab": {
          "base_uri": "https://localhost:8080/",
          "height": 173
        },
        "outputId": "28a4c730-edc9-405f-b549-b10f7ab5e08b"
      },
      "source": [
        "!pip install faker\n",
        "from faker import Faker\n",
        "fake = Faker()\n",
        "fake.seed(4321)\n",
        "timestamp=[]\n",
        "ID=[]\n",
        "phone=[]\n",
        "age=[]\n",
        "gender=[]\n",
        "address=[]\n",
        "checkin=[]\n",
        "checkout=[]\n",
        "name=[]"
      ],
      "execution_count": 10,
      "outputs": [
        {
          "output_type": "stream",
          "text": [
            "Collecting faker\n",
            "\u001b[?25l  Downloading https://files.pythonhosted.org/packages/17/28/3bf5acbceb18055f12bd9f5af2382bcc24028c8a4006224ea927e9e62801/Faker-2.0.4-py2.py3-none-any.whl (961kB)\n",
            "\r\u001b[K     |▍                               | 10kB 23.0MB/s eta 0:00:01\r\u001b[K     |▊                               | 20kB 3.1MB/s eta 0:00:01\r\u001b[K     |█                               | 30kB 4.5MB/s eta 0:00:01\r\u001b[K     |█▍                              | 40kB 3.0MB/s eta 0:00:01\r\u001b[K     |█▊                              | 51kB 3.6MB/s eta 0:00:01\r\u001b[K     |██                              | 61kB 4.3MB/s eta 0:00:01\r\u001b[K     |██▍                             | 71kB 5.0MB/s eta 0:00:01\r\u001b[K     |██▊                             | 81kB 5.6MB/s eta 0:00:01\r\u001b[K     |███                             | 92kB 6.3MB/s eta 0:00:01\r\u001b[K     |███▍                            | 102kB 4.8MB/s eta 0:00:01\r\u001b[K     |███▊                            | 112kB 4.8MB/s eta 0:00:01\r\u001b[K     |████                            | 122kB 4.8MB/s eta 0:00:01\r\u001b[K     |████▍                           | 133kB 4.8MB/s eta 0:00:01\r\u001b[K     |████▊                           | 143kB 4.8MB/s eta 0:00:01\r\u001b[K     |█████▏                          | 153kB 4.8MB/s eta 0:00:01\r\u001b[K     |█████▌                          | 163kB 4.8MB/s eta 0:00:01\r\u001b[K     |█████▉                          | 174kB 4.8MB/s eta 0:00:01\r\u001b[K     |██████▏                         | 184kB 4.8MB/s eta 0:00:01\r\u001b[K     |██████▌                         | 194kB 4.8MB/s eta 0:00:01\r\u001b[K     |██████▉                         | 204kB 4.8MB/s eta 0:00:01\r\u001b[K     |███████▏                        | 215kB 4.8MB/s eta 0:00:01\r\u001b[K     |███████▌                        | 225kB 4.8MB/s eta 0:00:01\r\u001b[K     |███████▉                        | 235kB 4.8MB/s eta 0:00:01\r\u001b[K     |████████▏                       | 245kB 4.8MB/s eta 0:00:01\r\u001b[K     |████████▌                       | 256kB 4.8MB/s eta 0:00:01\r\u001b[K     |████████▉                       | 266kB 4.8MB/s eta 0:00:01\r\u001b[K     |█████████▏                      | 276kB 4.8MB/s eta 0:00:01\r\u001b[K     |█████████▌                      | 286kB 4.8MB/s eta 0:00:01\r\u001b[K     |█████████▉                      | 296kB 4.8MB/s eta 0:00:01\r\u001b[K     |██████████▎                     | 307kB 4.8MB/s eta 0:00:01\r\u001b[K     |██████████▋                     | 317kB 4.8MB/s eta 0:00:01\r\u001b[K     |███████████                     | 327kB 4.8MB/s eta 0:00:01\r\u001b[K     |███████████▎                    | 337kB 4.8MB/s eta 0:00:01\r\u001b[K     |███████████▋                    | 348kB 4.8MB/s eta 0:00:01\r\u001b[K     |████████████                    | 358kB 4.8MB/s eta 0:00:01\r\u001b[K     |████████████▎                   | 368kB 4.8MB/s eta 0:00:01\r\u001b[K     |████████████▋                   | 378kB 4.8MB/s eta 0:00:01\r\u001b[K     |█████████████                   | 389kB 4.8MB/s eta 0:00:01\r\u001b[K     |█████████████▎                  | 399kB 4.8MB/s eta 0:00:01\r\u001b[K     |█████████████▋                  | 409kB 4.8MB/s eta 0:00:01\r\u001b[K     |██████████████                  | 419kB 4.8MB/s eta 0:00:01\r\u001b[K     |██████████████▎                 | 430kB 4.8MB/s eta 0:00:01\r\u001b[K     |██████████████▋                 | 440kB 4.8MB/s eta 0:00:01\r\u001b[K     |███████████████                 | 450kB 4.8MB/s eta 0:00:01\r\u001b[K     |███████████████▍                | 460kB 4.8MB/s eta 0:00:01\r\u001b[K     |███████████████▊                | 471kB 4.8MB/s eta 0:00:01\r\u001b[K     |████████████████                | 481kB 4.8MB/s eta 0:00:01\r\u001b[K     |████████████████▍               | 491kB 4.8MB/s eta 0:00:01\r\u001b[K     |████████████████▊               | 501kB 4.8MB/s eta 0:00:01\r\u001b[K     |█████████████████               | 512kB 4.8MB/s eta 0:00:01\r\u001b[K     |█████████████████▍              | 522kB 4.8MB/s eta 0:00:01\r\u001b[K     |█████████████████▊              | 532kB 4.8MB/s eta 0:00:01\r\u001b[K     |██████████████████              | 542kB 4.8MB/s eta 0:00:01\r\u001b[K     |██████████████████▍             | 552kB 4.8MB/s eta 0:00:01\r\u001b[K     |██████████████████▊             | 563kB 4.8MB/s eta 0:00:01\r\u001b[K     |███████████████████             | 573kB 4.8MB/s eta 0:00:01\r\u001b[K     |███████████████████▍            | 583kB 4.8MB/s eta 0:00:01\r\u001b[K     |███████████████████▊            | 593kB 4.8MB/s eta 0:00:01\r\u001b[K     |████████████████████▏           | 604kB 4.8MB/s eta 0:00:01\r\u001b[K     |████████████████████▌           | 614kB 4.8MB/s eta 0:00:01\r\u001b[K     |████████████████████▉           | 624kB 4.8MB/s eta 0:00:01\r\u001b[K     |█████████████████████▏          | 634kB 4.8MB/s eta 0:00:01\r\u001b[K     |█████████████████████▌          | 645kB 4.8MB/s eta 0:00:01\r\u001b[K     |█████████████████████▉          | 655kB 4.8MB/s eta 0:00:01\r\u001b[K     |██████████████████████▏         | 665kB 4.8MB/s eta 0:00:01\r\u001b[K     |██████████████████████▌         | 675kB 4.8MB/s eta 0:00:01\r\u001b[K     |██████████████████████▉         | 686kB 4.8MB/s eta 0:00:01\r\u001b[K     |███████████████████████▏        | 696kB 4.8MB/s eta 0:00:01\r\u001b[K     |███████████████████████▌        | 706kB 4.8MB/s eta 0:00:01\r\u001b[K     |███████████████████████▉        | 716kB 4.8MB/s eta 0:00:01\r\u001b[K     |████████████████████████▏       | 727kB 4.8MB/s eta 0:00:01\r\u001b[K     |████████████████████████▌       | 737kB 4.8MB/s eta 0:00:01\r\u001b[K     |█████████████████████████       | 747kB 4.8MB/s eta 0:00:01\r\u001b[K     |█████████████████████████▎      | 757kB 4.8MB/s eta 0:00:01\r\u001b[K     |█████████████████████████▋      | 768kB 4.8MB/s eta 0:00:01\r\u001b[K     |██████████████████████████      | 778kB 4.8MB/s eta 0:00:01\r\u001b[K     |██████████████████████████▎     | 788kB 4.8MB/s eta 0:00:01\r\u001b[K     |██████████████████████████▋     | 798kB 4.8MB/s eta 0:00:01\r\u001b[K     |███████████████████████████     | 808kB 4.8MB/s eta 0:00:01\r\u001b[K     |███████████████████████████▎    | 819kB 4.8MB/s eta 0:00:01\r\u001b[K     |███████████████████████████▋    | 829kB 4.8MB/s eta 0:00:01\r\u001b[K     |████████████████████████████    | 839kB 4.8MB/s eta 0:00:01\r\u001b[K     |████████████████████████████▎   | 849kB 4.8MB/s eta 0:00:01\r\u001b[K     |████████████████████████████▋   | 860kB 4.8MB/s eta 0:00:01\r\u001b[K     |█████████████████████████████   | 870kB 4.8MB/s eta 0:00:01\r\u001b[K     |█████████████████████████████▎  | 880kB 4.8MB/s eta 0:00:01\r\u001b[K     |█████████████████████████████▋  | 890kB 4.8MB/s eta 0:00:01\r\u001b[K     |██████████████████████████████  | 901kB 4.8MB/s eta 0:00:01\r\u001b[K     |██████████████████████████████▍ | 911kB 4.8MB/s eta 0:00:01\r\u001b[K     |██████████████████████████████▊ | 921kB 4.8MB/s eta 0:00:01\r\u001b[K     |███████████████████████████████ | 931kB 4.8MB/s eta 0:00:01\r\u001b[K     |███████████████████████████████▍| 942kB 4.8MB/s eta 0:00:01\r\u001b[K     |███████████████████████████████▊| 952kB 4.8MB/s eta 0:00:01\r\u001b[K     |████████████████████████████████| 962kB 4.8MB/s \n",
            "\u001b[?25hRequirement already satisfied: six>=1.10 in /usr/local/lib/python3.6/dist-packages (from faker) (1.12.0)\n",
            "Requirement already satisfied: text-unidecode==1.3 in /usr/local/lib/python3.6/dist-packages (from faker) (1.3)\n",
            "Requirement already satisfied: python-dateutil>=2.4 in /usr/local/lib/python3.6/dist-packages (from faker) (2.6.1)\n",
            "Installing collected packages: faker\n",
            "Successfully installed faker-2.0.4\n"
          ],
          "name": "stdout"
        }
      ]
    },
    {
      "cell_type": "code",
      "metadata": {
        "id": "7K0QNDp0vHAn",
        "colab_type": "code",
        "colab": {}
      },
      "source": [
        "for _ in range(100):\n",
        "    timestamp.append(fake.date_time())\n",
        "    phone.append(fake.phone_number())\n",
        "    address.append(fake.country())\n",
        "    checkin.append(fake.date_time_ad())\n",
        "    checkout.append(fake.date_time_ad())\n",
        "    name.append(fake.name())"
      ],
      "execution_count": 0,
      "outputs": []
    },
    {
      "cell_type": "code",
      "metadata": {
        "id": "xyJbwb_ivdr0",
        "colab_type": "code",
        "colab": {}
      },
      "source": [
        "ID=pd.Series(range(1,101))\n",
        "age=np.random.randint(8, high=80, size=100)\n",
        "gender=np.random.choice([0, 1], size=100, p=[.6, .4])"
      ],
      "execution_count": 0,
      "outputs": []
    },
    {
      "cell_type": "code",
      "metadata": {
        "id": "Gk51dKGOvlPm",
        "colab_type": "code",
        "colab": {}
      },
      "source": [
        "data= pd.DataFrame({'Timestamp':timestamp,'ID':ID,'name':name,'Phone number':phone,'age':age, 'gender':gender, 'address':address,'checkin':checkin,'checkout':checkout})"
      ],
      "execution_count": 0,
      "outputs": []
    },
    {
      "cell_type": "code",
      "metadata": {
        "id": "C63GbJP9vztW",
        "colab_type": "code",
        "colab": {
          "base_uri": "https://localhost:8080/",
          "height": 359
        },
        "outputId": "afc15f81-4e69-402b-b41a-6b74fe38c1b9"
      },
      "source": [
        "data.head(10)"
      ],
      "execution_count": 14,
      "outputs": [
        {
          "output_type": "execute_result",
          "data": {
            "text/html": [
              "<div>\n",
              "<style scoped>\n",
              "    .dataframe tbody tr th:only-of-type {\n",
              "        vertical-align: middle;\n",
              "    }\n",
              "\n",
              "    .dataframe tbody tr th {\n",
              "        vertical-align: top;\n",
              "    }\n",
              "\n",
              "    .dataframe thead th {\n",
              "        text-align: right;\n",
              "    }\n",
              "</style>\n",
              "<table border=\"1\" class=\"dataframe\">\n",
              "  <thead>\n",
              "    <tr style=\"text-align: right;\">\n",
              "      <th></th>\n",
              "      <th>Timestamp</th>\n",
              "      <th>ID</th>\n",
              "      <th>name</th>\n",
              "      <th>Phone number</th>\n",
              "      <th>age</th>\n",
              "      <th>gender</th>\n",
              "      <th>address</th>\n",
              "      <th>checkin</th>\n",
              "      <th>checkout</th>\n",
              "    </tr>\n",
              "  </thead>\n",
              "  <tbody>\n",
              "    <tr>\n",
              "      <th>0</th>\n",
              "      <td>1987-04-22 04:30:21</td>\n",
              "      <td>1</td>\n",
              "      <td>Christopher Smith</td>\n",
              "      <td>1251029074</td>\n",
              "      <td>47</td>\n",
              "      <td>0</td>\n",
              "      <td>India</td>\n",
              "      <td>0849-02-19 12:29:56</td>\n",
              "      <td>0930-06-02 06:03:56</td>\n",
              "    </tr>\n",
              "    <tr>\n",
              "      <th>1</th>\n",
              "      <td>2006-03-11 14:30:02</td>\n",
              "      <td>2</td>\n",
              "      <td>Brian Maxwell</td>\n",
              "      <td>349-385-6397</td>\n",
              "      <td>25</td>\n",
              "      <td>1</td>\n",
              "      <td>Colombia</td>\n",
              "      <td>1938-04-21 13:06:55</td>\n",
              "      <td>0789-03-28 04:38:33</td>\n",
              "    </tr>\n",
              "    <tr>\n",
              "      <th>2</th>\n",
              "      <td>1987-06-24 14:09:19</td>\n",
              "      <td>3</td>\n",
              "      <td>Peter Jones</td>\n",
              "      <td>353.146.7561x4781</td>\n",
              "      <td>47</td>\n",
              "      <td>1</td>\n",
              "      <td>Saint Helena</td>\n",
              "      <td>1479-06-05 10:06:36</td>\n",
              "      <td>0043-01-05 11:32:36</td>\n",
              "    </tr>\n",
              "    <tr>\n",
              "      <th>3</th>\n",
              "      <td>2009-03-07 08:46:04</td>\n",
              "      <td>4</td>\n",
              "      <td>Renee Fisher</td>\n",
              "      <td>8658133841</td>\n",
              "      <td>35</td>\n",
              "      <td>0</td>\n",
              "      <td>Belgium</td>\n",
              "      <td>1339-08-18 15:27:44</td>\n",
              "      <td>1190-08-03 17:20:43</td>\n",
              "    </tr>\n",
              "    <tr>\n",
              "      <th>4</th>\n",
              "      <td>2009-09-14 05:51:12</td>\n",
              "      <td>5</td>\n",
              "      <td>Maria Lopez</td>\n",
              "      <td>+1-812-904-6438x297</td>\n",
              "      <td>38</td>\n",
              "      <td>1</td>\n",
              "      <td>Guyana</td>\n",
              "      <td>0667-07-05 20:36:19</td>\n",
              "      <td>1406-10-28 09:28:41</td>\n",
              "    </tr>\n",
              "    <tr>\n",
              "      <th>5</th>\n",
              "      <td>1992-02-10 20:13:49</td>\n",
              "      <td>6</td>\n",
              "      <td>Robert Gilbert</td>\n",
              "      <td>(904)640-1033x35819</td>\n",
              "      <td>72</td>\n",
              "      <td>1</td>\n",
              "      <td>Lesotho</td>\n",
              "      <td>0736-03-30 16:44:06</td>\n",
              "      <td>1498-12-01 19:04:09</td>\n",
              "    </tr>\n",
              "    <tr>\n",
              "      <th>6</th>\n",
              "      <td>1977-09-13 00:27:23</td>\n",
              "      <td>7</td>\n",
              "      <td>Katherine Gentry</td>\n",
              "      <td>(211)143-4126</td>\n",
              "      <td>17</td>\n",
              "      <td>0</td>\n",
              "      <td>Korea</td>\n",
              "      <td>1572-03-04 18:02:08</td>\n",
              "      <td>1603-09-23 08:47:30</td>\n",
              "    </tr>\n",
              "    <tr>\n",
              "      <th>7</th>\n",
              "      <td>1981-05-09 20:40:18</td>\n",
              "      <td>8</td>\n",
              "      <td>Eric Diaz</td>\n",
              "      <td>+1-381-281-5181x5140</td>\n",
              "      <td>71</td>\n",
              "      <td>0</td>\n",
              "      <td>Czech Republic</td>\n",
              "      <td>1682-10-11 20:24:26</td>\n",
              "      <td>0735-05-22 16:36:39</td>\n",
              "    </tr>\n",
              "    <tr>\n",
              "      <th>8</th>\n",
              "      <td>1981-02-01 10:11:52</td>\n",
              "      <td>9</td>\n",
              "      <td>Jeanette Martin</td>\n",
              "      <td>9563564030</td>\n",
              "      <td>35</td>\n",
              "      <td>1</td>\n",
              "      <td>Switzerland</td>\n",
              "      <td>1410-10-17 07:20:48</td>\n",
              "      <td>0323-05-16 02:20:58</td>\n",
              "    </tr>\n",
              "    <tr>\n",
              "      <th>9</th>\n",
              "      <td>1994-06-29 10:29:54</td>\n",
              "      <td>10</td>\n",
              "      <td>Anthony Merritt</td>\n",
              "      <td>(742)732-8671x14329</td>\n",
              "      <td>24</td>\n",
              "      <td>0</td>\n",
              "      <td>Anguilla</td>\n",
              "      <td>1484-07-02 17:21:08</td>\n",
              "      <td>1191-03-17 01:26:08</td>\n",
              "    </tr>\n",
              "  </tbody>\n",
              "</table>\n",
              "</div>"
            ],
            "text/plain": [
              "            Timestamp  ID  ...              checkin             checkout\n",
              "0 1987-04-22 04:30:21   1  ...  0849-02-19 12:29:56  0930-06-02 06:03:56\n",
              "1 2006-03-11 14:30:02   2  ...  1938-04-21 13:06:55  0789-03-28 04:38:33\n",
              "2 1987-06-24 14:09:19   3  ...  1479-06-05 10:06:36  0043-01-05 11:32:36\n",
              "3 2009-03-07 08:46:04   4  ...  1339-08-18 15:27:44  1190-08-03 17:20:43\n",
              "4 2009-09-14 05:51:12   5  ...  0667-07-05 20:36:19  1406-10-28 09:28:41\n",
              "5 1992-02-10 20:13:49   6  ...  0736-03-30 16:44:06  1498-12-01 19:04:09\n",
              "6 1977-09-13 00:27:23   7  ...  1572-03-04 18:02:08  1603-09-23 08:47:30\n",
              "7 1981-05-09 20:40:18   8  ...  1682-10-11 20:24:26  0735-05-22 16:36:39\n",
              "8 1981-02-01 10:11:52   9  ...  1410-10-17 07:20:48  0323-05-16 02:20:58\n",
              "9 1994-06-29 10:29:54  10  ...  1484-07-02 17:21:08  1191-03-17 01:26:08\n",
              "\n",
              "[10 rows x 9 columns]"
            ]
          },
          "metadata": {
            "tags": []
          },
          "execution_count": 14
        }
      ]
    },
    {
      "cell_type": "code",
      "metadata": {
        "id": "JIUyoLZ2v1l6",
        "colab_type": "code",
        "colab": {}
      },
      "source": [
        "data.gender.replace(1,'female',inplace=True)\n",
        "data.gender.replace(0,'male',inplace=True)"
      ],
      "execution_count": 0,
      "outputs": []
    },
    {
      "cell_type": "code",
      "metadata": {
        "id": "4F8Ues-yv9Wk",
        "colab_type": "code",
        "colab": {
          "base_uri": "https://localhost:8080/",
          "height": 68
        },
        "outputId": "7a716612-9d32-4bb9-e3ce-da4aee5d798e"
      },
      "source": [
        "data.gender.value_counts()"
      ],
      "execution_count": 16,
      "outputs": [
        {
          "output_type": "execute_result",
          "data": {
            "text/plain": [
              "male      63\n",
              "female    37\n",
              "Name: gender, dtype: int64"
            ]
          },
          "metadata": {
            "tags": []
          },
          "execution_count": 16
        }
      ]
    },
    {
      "cell_type": "code",
      "metadata": {
        "id": "T09Iigi1wFea",
        "colab_type": "code",
        "colab": {
          "base_uri": "https://localhost:8080/",
          "height": 34
        },
        "outputId": "421ec2c2-d12c-42f0-f8b4-4f1937db9ae8"
      },
      "source": [
        "data.checkin.dtype"
      ],
      "execution_count": 17,
      "outputs": [
        {
          "output_type": "execute_result",
          "data": {
            "text/plain": [
              "dtype('O')"
            ]
          },
          "metadata": {
            "tags": []
          },
          "execution_count": 17
        }
      ]
    },
    {
      "cell_type": "code",
      "metadata": {
        "id": "C7UMYQW4wM_o",
        "colab_type": "code",
        "colab": {}
      },
      "source": [
        "data['checkin']=pd.to_datetime(data.checkin, errors='coerce')\n",
        "data['checkout']=pd.to_datetime(data.checkout, errors='coerce')\n",
        "data['Timestamp']=pd.to_datetime(data.Timestamp, errors='coerce')"
      ],
      "execution_count": 0,
      "outputs": []
    },
    {
      "cell_type": "code",
      "metadata": {
        "id": "gEwjo8fSwWsS",
        "colab_type": "code",
        "colab": {}
      },
      "source": [
        "datee= pd.date_range(start='1/1/2017', end='1/08/2019', periods=15)\n",
        "datee=pd.to_datetime(datee)"
      ],
      "execution_count": 0,
      "outputs": []
    },
    {
      "cell_type": "code",
      "metadata": {
        "id": "28HFg0jXwi43",
        "colab_type": "code",
        "colab": {}
      },
      "source": [
        "datee"
      ],
      "execution_count": 0,
      "outputs": []
    },
    {
      "cell_type": "code",
      "metadata": {
        "id": "eZkEmaQHw7E1",
        "colab_type": "code",
        "colab": {}
      },
      "source": [
        "data.checkin=data.Timestamp"
      ],
      "execution_count": 0,
      "outputs": []
    },
    {
      "cell_type": "code",
      "metadata": {
        "id": "vWJowwNBxA85",
        "colab_type": "code",
        "colab": {
          "base_uri": "https://localhost:8080/",
          "height": 419
        },
        "outputId": "3ed2faf5-63f3-4568-a055-aeec2dcbeee9"
      },
      "source": [
        "data.sort_values(by='Timestamp',ascending=True)"
      ],
      "execution_count": 22,
      "outputs": [
        {
          "output_type": "execute_result",
          "data": {
            "text/html": [
              "<div>\n",
              "<style scoped>\n",
              "    .dataframe tbody tr th:only-of-type {\n",
              "        vertical-align: middle;\n",
              "    }\n",
              "\n",
              "    .dataframe tbody tr th {\n",
              "        vertical-align: top;\n",
              "    }\n",
              "\n",
              "    .dataframe thead th {\n",
              "        text-align: right;\n",
              "    }\n",
              "</style>\n",
              "<table border=\"1\" class=\"dataframe\">\n",
              "  <thead>\n",
              "    <tr style=\"text-align: right;\">\n",
              "      <th></th>\n",
              "      <th>Timestamp</th>\n",
              "      <th>ID</th>\n",
              "      <th>name</th>\n",
              "      <th>Phone number</th>\n",
              "      <th>age</th>\n",
              "      <th>gender</th>\n",
              "      <th>address</th>\n",
              "      <th>checkin</th>\n",
              "      <th>checkout</th>\n",
              "    </tr>\n",
              "  </thead>\n",
              "  <tbody>\n",
              "    <tr>\n",
              "      <th>54</th>\n",
              "      <td>1970-11-26 23:32:09</td>\n",
              "      <td>55</td>\n",
              "      <td>Stephen Eaton</td>\n",
              "      <td>754-921-8507x9204</td>\n",
              "      <td>70</td>\n",
              "      <td>female</td>\n",
              "      <td>Jordan</td>\n",
              "      <td>1970-11-26 23:32:09</td>\n",
              "      <td>NaT</td>\n",
              "    </tr>\n",
              "    <tr>\n",
              "      <th>48</th>\n",
              "      <td>1971-06-05 17:37:35</td>\n",
              "      <td>49</td>\n",
              "      <td>Steven Blair</td>\n",
              "      <td>+1-598-863-4332x5031</td>\n",
              "      <td>65</td>\n",
              "      <td>male</td>\n",
              "      <td>India</td>\n",
              "      <td>1971-06-05 17:37:35</td>\n",
              "      <td>NaT</td>\n",
              "    </tr>\n",
              "    <tr>\n",
              "      <th>64</th>\n",
              "      <td>1971-06-16 12:46:21</td>\n",
              "      <td>65</td>\n",
              "      <td>Dr. Deborah Salazar</td>\n",
              "      <td>(930)527-8944x6195</td>\n",
              "      <td>29</td>\n",
              "      <td>male</td>\n",
              "      <td>Sierra Leone</td>\n",
              "      <td>1971-06-16 12:46:21</td>\n",
              "      <td>NaT</td>\n",
              "    </tr>\n",
              "    <tr>\n",
              "      <th>57</th>\n",
              "      <td>1971-08-15 19:37:25</td>\n",
              "      <td>58</td>\n",
              "      <td>Kathryn George</td>\n",
              "      <td>418.945.3221</td>\n",
              "      <td>61</td>\n",
              "      <td>male</td>\n",
              "      <td>Cameroon</td>\n",
              "      <td>1971-08-15 19:37:25</td>\n",
              "      <td>NaT</td>\n",
              "    </tr>\n",
              "    <tr>\n",
              "      <th>20</th>\n",
              "      <td>1971-10-19 07:01:04</td>\n",
              "      <td>21</td>\n",
              "      <td>Brian Lyons</td>\n",
              "      <td>(499)704-1098x36702</td>\n",
              "      <td>76</td>\n",
              "      <td>male</td>\n",
              "      <td>Panama</td>\n",
              "      <td>1971-10-19 07:01:04</td>\n",
              "      <td>NaT</td>\n",
              "    </tr>\n",
              "    <tr>\n",
              "      <th>...</th>\n",
              "      <td>...</td>\n",
              "      <td>...</td>\n",
              "      <td>...</td>\n",
              "      <td>...</td>\n",
              "      <td>...</td>\n",
              "      <td>...</td>\n",
              "      <td>...</td>\n",
              "      <td>...</td>\n",
              "      <td>...</td>\n",
              "    </tr>\n",
              "    <tr>\n",
              "      <th>60</th>\n",
              "      <td>2015-01-03 03:38:05</td>\n",
              "      <td>61</td>\n",
              "      <td>Richard Thomas</td>\n",
              "      <td>(891)360-8557x479</td>\n",
              "      <td>56</td>\n",
              "      <td>male</td>\n",
              "      <td>Tanzania</td>\n",
              "      <td>2015-01-03 03:38:05</td>\n",
              "      <td>1769-03-20 12:30:54</td>\n",
              "    </tr>\n",
              "    <tr>\n",
              "      <th>52</th>\n",
              "      <td>2015-01-24 13:52:15</td>\n",
              "      <td>53</td>\n",
              "      <td>Bradley Frazier</td>\n",
              "      <td>833.579.1411</td>\n",
              "      <td>74</td>\n",
              "      <td>male</td>\n",
              "      <td>Senegal</td>\n",
              "      <td>2015-01-24 13:52:15</td>\n",
              "      <td>NaT</td>\n",
              "    </tr>\n",
              "    <tr>\n",
              "      <th>87</th>\n",
              "      <td>2015-04-03 13:41:46</td>\n",
              "      <td>88</td>\n",
              "      <td>Patrick Simmons</td>\n",
              "      <td>001-839-650-9962x07991</td>\n",
              "      <td>21</td>\n",
              "      <td>male</td>\n",
              "      <td>Cook Islands</td>\n",
              "      <td>2015-04-03 13:41:46</td>\n",
              "      <td>NaT</td>\n",
              "    </tr>\n",
              "    <tr>\n",
              "      <th>47</th>\n",
              "      <td>2017-04-24 23:13:40</td>\n",
              "      <td>48</td>\n",
              "      <td>Kara Allen</td>\n",
              "      <td>382-227-4930x13743</td>\n",
              "      <td>46</td>\n",
              "      <td>male</td>\n",
              "      <td>Bermuda</td>\n",
              "      <td>2017-04-24 23:13:40</td>\n",
              "      <td>NaT</td>\n",
              "    </tr>\n",
              "    <tr>\n",
              "      <th>93</th>\n",
              "      <td>2018-10-13 22:50:54</td>\n",
              "      <td>94</td>\n",
              "      <td>Maria Howard</td>\n",
              "      <td>239-239-7925x27186</td>\n",
              "      <td>31</td>\n",
              "      <td>female</td>\n",
              "      <td>Liberia</td>\n",
              "      <td>2018-10-13 22:50:54</td>\n",
              "      <td>NaT</td>\n",
              "    </tr>\n",
              "  </tbody>\n",
              "</table>\n",
              "<p>100 rows × 9 columns</p>\n",
              "</div>"
            ],
            "text/plain": [
              "             Timestamp  ID  ...             checkin            checkout\n",
              "54 1970-11-26 23:32:09  55  ... 1970-11-26 23:32:09                 NaT\n",
              "48 1971-06-05 17:37:35  49  ... 1971-06-05 17:37:35                 NaT\n",
              "64 1971-06-16 12:46:21  65  ... 1971-06-16 12:46:21                 NaT\n",
              "57 1971-08-15 19:37:25  58  ... 1971-08-15 19:37:25                 NaT\n",
              "20 1971-10-19 07:01:04  21  ... 1971-10-19 07:01:04                 NaT\n",
              "..                 ...  ..  ...                 ...                 ...\n",
              "60 2015-01-03 03:38:05  61  ... 2015-01-03 03:38:05 1769-03-20 12:30:54\n",
              "52 2015-01-24 13:52:15  53  ... 2015-01-24 13:52:15                 NaT\n",
              "87 2015-04-03 13:41:46  88  ... 2015-04-03 13:41:46                 NaT\n",
              "47 2017-04-24 23:13:40  48  ... 2017-04-24 23:13:40                 NaT\n",
              "93 2018-10-13 22:50:54  94  ... 2018-10-13 22:50:54                 NaT\n",
              "\n",
              "[100 rows x 9 columns]"
            ]
          },
          "metadata": {
            "tags": []
          },
          "execution_count": 22
        }
      ]
    },
    {
      "cell_type": "code",
      "metadata": {
        "id": "HgwEd6Jzx2oc",
        "colab_type": "code",
        "colab": {
          "base_uri": "https://localhost:8080/",
          "height": 626
        },
        "outputId": "f08d715a-2263-4ec1-c97d-c4abf91b3a05"
      },
      "source": [
        "plt.figure(figsize=(10,10))\n",
        "sns.distplot(data.age,bins=100, hist=True, kde=False)"
      ],
      "execution_count": 23,
      "outputs": [
        {
          "output_type": "execute_result",
          "data": {
            "text/plain": [
              "<matplotlib.axes._subplots.AxesSubplot at 0x7f88d3bc7d68>"
            ]
          },
          "metadata": {
            "tags": []
          },
          "execution_count": 23
        },
        {
          "output_type": "display_data",
          "data": {
            "image/png": "[encoded data removed]",
            "text/plain": [
              "<Figure size 720x720 with 1 Axes>"
            ]
          },
          "metadata": {
            "tags": []
          }
        }
      ]
    },
    {
      "cell_type": "code",
      "metadata": {
        "id": "upMno5DryNlC",
        "colab_type": "code",
        "colab": {}
      },
      "source": [
        "import datetime"
      ],
      "execution_count": 0,
      "outputs": []
    },
    {
      "cell_type": "code",
      "metadata": {
        "id": "pMKOBLbCyS8J",
        "colab_type": "code",
        "colab": {}
      },
      "source": [
        "enddate = pd.to_datetime(data.checkin) + pd.DateOffset(days=3)"
      ],
      "execution_count": 0,
      "outputs": []
    },
    {
      "cell_type": "code",
      "metadata": {
        "id": "I6UkwcQtyFtG",
        "colab_type": "code",
        "colab": {}
      },
      "source": [
        "data['checkout']=enddate"
      ],
      "execution_count": 0,
      "outputs": []
    },
    {
      "cell_type": "code",
      "metadata": {
        "id": "AVV_o1WAyiqU",
        "colab_type": "code",
        "colab": {
          "base_uri": "https://localhost:8080/",
          "height": 204
        },
        "outputId": "01f4afe0-504a-4573-cc27-6540553ab2bc"
      },
      "source": [
        "data.head()"
      ],
      "execution_count": 27,
      "outputs": [
        {
          "output_type": "execute_result",
          "data": {
            "text/html": [
              "<div>\n",
              "<style scoped>\n",
              "    .dataframe tbody tr th:only-of-type {\n",
              "        vertical-align: middle;\n",
              "    }\n",
              "\n",
              "    .dataframe tbody tr th {\n",
              "        vertical-align: top;\n",
              "    }\n",
              "\n",
              "    .dataframe thead th {\n",
              "        text-align: right;\n",
              "    }\n",
              "</style>\n",
              "<table border=\"1\" class=\"dataframe\">\n",
              "  <thead>\n",
              "    <tr style=\"text-align: right;\">\n",
              "      <th></th>\n",
              "      <th>Timestamp</th>\n",
              "      <th>ID</th>\n",
              "      <th>name</th>\n",
              "      <th>Phone number</th>\n",
              "      <th>age</th>\n",
              "      <th>gender</th>\n",
              "      <th>address</th>\n",
              "      <th>checkin</th>\n",
              "      <th>checkout</th>\n",
              "    </tr>\n",
              "  </thead>\n",
              "  <tbody>\n",
              "    <tr>\n",
              "      <th>0</th>\n",
              "      <td>1987-04-22 04:30:21</td>\n",
              "      <td>1</td>\n",
              "      <td>Christopher Smith</td>\n",
              "      <td>1251029074</td>\n",
              "      <td>47</td>\n",
              "      <td>male</td>\n",
              "      <td>India</td>\n",
              "      <td>1987-04-22 04:30:21</td>\n",
              "      <td>1987-04-25 04:30:21</td>\n",
              "    </tr>\n",
              "    <tr>\n",
              "      <th>1</th>\n",
              "      <td>2006-03-11 14:30:02</td>\n",
              "      <td>2</td>\n",
              "      <td>Brian Maxwell</td>\n",
              "      <td>349-385-6397</td>\n",
              "      <td>25</td>\n",
              "      <td>female</td>\n",
              "      <td>Colombia</td>\n",
              "      <td>2006-03-11 14:30:02</td>\n",
              "      <td>2006-03-14 14:30:02</td>\n",
              "    </tr>\n",
              "    <tr>\n",
              "      <th>2</th>\n",
              "      <td>1987-06-24 14:09:19</td>\n",
              "      <td>3</td>\n",
              "      <td>Peter Jones</td>\n",
              "      <td>353.146.7561x4781</td>\n",
              "      <td>47</td>\n",
              "      <td>female</td>\n",
              "      <td>Saint Helena</td>\n",
              "      <td>1987-06-24 14:09:19</td>\n",
              "      <td>1987-06-27 14:09:19</td>\n",
              "    </tr>\n",
              "    <tr>\n",
              "      <th>3</th>\n",
              "      <td>2009-03-07 08:46:04</td>\n",
              "      <td>4</td>\n",
              "      <td>Renee Fisher</td>\n",
              "      <td>8658133841</td>\n",
              "      <td>35</td>\n",
              "      <td>male</td>\n",
              "      <td>Belgium</td>\n",
              "      <td>2009-03-07 08:46:04</td>\n",
              "      <td>2009-03-10 08:46:04</td>\n",
              "    </tr>\n",
              "    <tr>\n",
              "      <th>4</th>\n",
              "      <td>2009-09-14 05:51:12</td>\n",
              "      <td>5</td>\n",
              "      <td>Maria Lopez</td>\n",
              "      <td>+1-812-904-6438x297</td>\n",
              "      <td>38</td>\n",
              "      <td>female</td>\n",
              "      <td>Guyana</td>\n",
              "      <td>2009-09-14 05:51:12</td>\n",
              "      <td>2009-09-17 05:51:12</td>\n",
              "    </tr>\n",
              "  </tbody>\n",
              "</table>\n",
              "</div>"
            ],
            "text/plain": [
              "            Timestamp  ID  ...             checkin            checkout\n",
              "0 1987-04-22 04:30:21   1  ... 1987-04-22 04:30:21 1987-04-25 04:30:21\n",
              "1 2006-03-11 14:30:02   2  ... 2006-03-11 14:30:02 2006-03-14 14:30:02\n",
              "2 1987-06-24 14:09:19   3  ... 1987-06-24 14:09:19 1987-06-27 14:09:19\n",
              "3 2009-03-07 08:46:04   4  ... 2009-03-07 08:46:04 2009-03-10 08:46:04\n",
              "4 2009-09-14 05:51:12   5  ... 2009-09-14 05:51:12 2009-09-17 05:51:12\n",
              "\n",
              "[5 rows x 9 columns]"
            ]
          },
          "metadata": {
            "tags": []
          },
          "execution_count": 27
        }
      ]
    },
    {
      "cell_type": "code",
      "metadata": {
        "id": "3czRxpLvysXq",
        "colab_type": "code",
        "colab": {
          "base_uri": "https://localhost:8080/",
          "height": 419
        },
        "outputId": "fb71d7d5-0c9a-4388-ddf3-eaa7df15a2c4"
      },
      "source": [
        "data.sort_values(by='Timestamp',ascending=True)"
      ],
      "execution_count": 28,
      "outputs": [
        {
          "output_type": "execute_result",
          "data": {
            "text/html": [
              "<div>\n",
              "<style scoped>\n",
              "    .dataframe tbody tr th:only-of-type {\n",
              "        vertical-align: middle;\n",
              "    }\n",
              "\n",
              "    .dataframe tbody tr th {\n",
              "        vertical-align: top;\n",
              "    }\n",
              "\n",
              "    .dataframe thead th {\n",
              "        text-align: right;\n",
              "    }\n",
              "</style>\n",
              "<table border=\"1\" class=\"dataframe\">\n",
              "  <thead>\n",
              "    <tr style=\"text-align: right;\">\n",
              "      <th></th>\n",
              "      <th>Timestamp</th>\n",
              "      <th>ID</th>\n",
              "      <th>name</th>\n",
              "      <th>Phone number</th>\n",
              "      <th>age</th>\n",
              "      <th>gender</th>\n",
              "      <th>address</th>\n",
              "      <th>checkin</th>\n",
              "      <th>checkout</th>\n",
              "    </tr>\n",
              "  </thead>\n",
              "  <tbody>\n",
              "    <tr>\n",
              "      <th>54</th>\n",
              "      <td>1970-11-26 23:32:09</td>\n",
              "      <td>55</td>\n",
              "      <td>Stephen Eaton</td>\n",
              "      <td>754-921-8507x9204</td>\n",
              "      <td>70</td>\n",
              "      <td>female</td>\n",
              "      <td>Jordan</td>\n",
              "      <td>1970-11-26 23:32:09</td>\n",
              "      <td>1970-11-29 23:32:09</td>\n",
              "    </tr>\n",
              "    <tr>\n",
              "      <th>48</th>\n",
              "      <td>1971-06-05 17:37:35</td>\n",
              "      <td>49</td>\n",
              "      <td>Steven Blair</td>\n",
              "      <td>+1-598-863-4332x5031</td>\n",
              "      <td>65</td>\n",
              "      <td>male</td>\n",
              "      <td>India</td>\n",
              "      <td>1971-06-05 17:37:35</td>\n",
              "      <td>1971-06-08 17:37:35</td>\n",
              "    </tr>\n",
              "    <tr>\n",
              "      <th>64</th>\n",
              "      <td>1971-06-16 12:46:21</td>\n",
              "      <td>65</td>\n",
              "      <td>Dr. Deborah Salazar</td>\n",
              "      <td>(930)527-8944x6195</td>\n",
              "      <td>29</td>\n",
              "      <td>male</td>\n",
              "      <td>Sierra Leone</td>\n",
              "      <td>1971-06-16 12:46:21</td>\n",
              "      <td>1971-06-19 12:46:21</td>\n",
              "    </tr>\n",
              "    <tr>\n",
              "      <th>57</th>\n",
              "      <td>1971-08-15 19:37:25</td>\n",
              "      <td>58</td>\n",
              "      <td>Kathryn George</td>\n",
              "      <td>418.945.3221</td>\n",
              "      <td>61</td>\n",
              "      <td>male</td>\n",
              "      <td>Cameroon</td>\n",
              "      <td>1971-08-15 19:37:25</td>\n",
              "      <td>1971-08-18 19:37:25</td>\n",
              "    </tr>\n",
              "    <tr>\n",
              "      <th>20</th>\n",
              "      <td>1971-10-19 07:01:04</td>\n",
              "      <td>21</td>\n",
              "      <td>Brian Lyons</td>\n",
              "      <td>(499)704-1098x36702</td>\n",
              "      <td>76</td>\n",
              "      <td>male</td>\n",
              "      <td>Panama</td>\n",
              "      <td>1971-10-19 07:01:04</td>\n",
              "      <td>1971-10-22 07:01:04</td>\n",
              "    </tr>\n",
              "    <tr>\n",
              "      <th>...</th>\n",
              "      <td>...</td>\n",
              "      <td>...</td>\n",
              "      <td>...</td>\n",
              "      <td>...</td>\n",
              "      <td>...</td>\n",
              "      <td>...</td>\n",
              "      <td>...</td>\n",
              "      <td>...</td>\n",
              "      <td>...</td>\n",
              "    </tr>\n",
              "    <tr>\n",
              "      <th>60</th>\n",
              "      <td>2015-01-03 03:38:05</td>\n",
              "      <td>61</td>\n",
              "      <td>Richard Thomas</td>\n",
              "      <td>(891)360-8557x479</td>\n",
              "      <td>56</td>\n",
              "      <td>male</td>\n",
              "      <td>Tanzania</td>\n",
              "      <td>2015-01-03 03:38:05</td>\n",
              "      <td>2015-01-06 03:38:05</td>\n",
              "    </tr>\n",
              "    <tr>\n",
              "      <th>52</th>\n",
              "      <td>2015-01-24 13:52:15</td>\n",
              "      <td>53</td>\n",
              "      <td>Bradley Frazier</td>\n",
              "      <td>833.579.1411</td>\n",
              "      <td>74</td>\n",
              "      <td>male</td>\n",
              "      <td>Senegal</td>\n",
              "      <td>2015-01-24 13:52:15</td>\n",
              "      <td>2015-01-27 13:52:15</td>\n",
              "    </tr>\n",
              "    <tr>\n",
              "      <th>87</th>\n",
              "      <td>2015-04-03 13:41:46</td>\n",
              "      <td>88</td>\n",
              "      <td>Patrick Simmons</td>\n",
              "      <td>001-839-650-9962x07991</td>\n",
              "      <td>21</td>\n",
              "      <td>male</td>\n",
              "      <td>Cook Islands</td>\n",
              "      <td>2015-04-03 13:41:46</td>\n",
              "      <td>2015-04-06 13:41:46</td>\n",
              "    </tr>\n",
              "    <tr>\n",
              "      <th>47</th>\n",
              "      <td>2017-04-24 23:13:40</td>\n",
              "      <td>48</td>\n",
              "      <td>Kara Allen</td>\n",
              "      <td>382-227-4930x13743</td>\n",
              "      <td>46</td>\n",
              "      <td>male</td>\n",
              "      <td>Bermuda</td>\n",
              "      <td>2017-04-24 23:13:40</td>\n",
              "      <td>2017-04-27 23:13:40</td>\n",
              "    </tr>\n",
              "    <tr>\n",
              "      <th>93</th>\n",
              "      <td>2018-10-13 22:50:54</td>\n",
              "      <td>94</td>\n",
              "      <td>Maria Howard</td>\n",
              "      <td>239-239-7925x27186</td>\n",
              "      <td>31</td>\n",
              "      <td>female</td>\n",
              "      <td>Liberia</td>\n",
              "      <td>2018-10-13 22:50:54</td>\n",
              "      <td>2018-10-16 22:50:54</td>\n",
              "    </tr>\n",
              "  </tbody>\n",
              "</table>\n",
              "<p>100 rows × 9 columns</p>\n",
              "</div>"
            ],
            "text/plain": [
              "             Timestamp  ID  ...             checkin            checkout\n",
              "54 1970-11-26 23:32:09  55  ... 1970-11-26 23:32:09 1970-11-29 23:32:09\n",
              "48 1971-06-05 17:37:35  49  ... 1971-06-05 17:37:35 1971-06-08 17:37:35\n",
              "64 1971-06-16 12:46:21  65  ... 1971-06-16 12:46:21 1971-06-19 12:46:21\n",
              "57 1971-08-15 19:37:25  58  ... 1971-08-15 19:37:25 1971-08-18 19:37:25\n",
              "20 1971-10-19 07:01:04  21  ... 1971-10-19 07:01:04 1971-10-22 07:01:04\n",
              "..                 ...  ..  ...                 ...                 ...\n",
              "60 2015-01-03 03:38:05  61  ... 2015-01-03 03:38:05 2015-01-06 03:38:05\n",
              "52 2015-01-24 13:52:15  53  ... 2015-01-24 13:52:15 2015-01-27 13:52:15\n",
              "87 2015-04-03 13:41:46  88  ... 2015-04-03 13:41:46 2015-04-06 13:41:46\n",
              "47 2017-04-24 23:13:40  48  ... 2017-04-24 23:13:40 2017-04-27 23:13:40\n",
              "93 2018-10-13 22:50:54  94  ... 2018-10-13 22:50:54 2018-10-16 22:50:54\n",
              "\n",
              "[100 rows x 9 columns]"
            ]
          },
          "metadata": {
            "tags": []
          },
          "execution_count": 28
        }
      ]
    },
    {
      "cell_type": "code",
      "metadata": {
        "id": "ChO2s799yyMo",
        "colab_type": "code",
        "colab": {
          "base_uri": "https://localhost:8080/",
          "height": 1274
        },
        "outputId": "b8fba24c-45b3-437e-a395-a2cf8b9823ba"
      },
      "source": [
        "plt.figure(figsize=(20,20))\n",
        "plt.scatter(list(data.checkin.values),list(data.address.values),color='r')"
      ],
      "execution_count": 29,
      "outputs": [
        {
          "output_type": "stream",
          "text": [
            "/usr/local/lib/python3.6/dist-packages/pandas/plotting/_matplotlib/converter.py:103: FutureWarning: Using an implicitly registered datetime converter for a matplotlib plotting method. The converter was registered by pandas on import. Future versions of pandas will require you to explicitly register matplotlib converters.\n",
            "\n",
            "To register the converters:\n",
            "\t>>> from pandas.plotting import register_matplotlib_converters\n",
            "\t>>> register_matplotlib_converters()\n",
            "  warnings.warn(msg, FutureWarning)\n"
          ],
          "name": "stderr"
        },
        {
          "output_type": "execute_result",
          "data": {
            "text/plain": [
              "<matplotlib.collections.PathCollection at 0x7f88d352dac8>"
            ]
          },
          "metadata": {
            "tags": []
          },
          "execution_count": 29
        },
        {
          "output_type": "display_data",
          "data": {
            "image/png": "[encoded data removed]",
            "text/plain": [
              "<Figure size 1440x1440 with 1 Axes>"
            ]
          },
          "metadata": {
            "tags": []
          }
        }
      ]
    },
    {
      "cell_type": "code",
      "metadata": {
        "id": "9hOxWevQzBcg",
        "colab_type": "code",
        "colab": {
          "base_uri": "https://localhost:8080/",
          "height": 561
        },
        "outputId": "4b875821-d064-447d-f966-cf66feb0f612"
      },
      "source": [
        "from plotly import __version__\n",
        "import plotly.plotly as py\n",
        "from plotly.offline import download_plotlyjs, init_notebook_mode, plot, iplot\n",
        "import cufflinks as cf\n"
      ],
      "execution_count": 30,
      "outputs": [
        {
          "output_type": "error",
          "ename": "ImportError",
          "evalue": "ignored",
          "traceback": [
            "\u001b[0;31m---------------------------------------------------------------------------\u001b[0m",
            "\u001b[0;31mImportError\u001b[0m                               Traceback (most recent call last)",
            "\u001b[0;32m<ipython-input-30-78e096493acd>\u001b[0m in \u001b[0;36m<module>\u001b[0;34m()\u001b[0m\n\u001b[1;32m      1\u001b[0m \u001b[0;32mfrom\u001b[0m \u001b[0mplotly\u001b[0m \u001b[0;32mimport\u001b[0m \u001b[0m__version__\u001b[0m\u001b[0;34m\u001b[0m\u001b[0;34m\u001b[0m\u001b[0m\n\u001b[0;32m----> 2\u001b[0;31m \u001b[0;32mimport\u001b[0m \u001b[0mplotly\u001b[0m\u001b[0;34m.\u001b[0m\u001b[0mplotly\u001b[0m \u001b[0;32mas\u001b[0m \u001b[0mpy\u001b[0m\u001b[0;34m\u001b[0m\u001b[0;34m\u001b[0m\u001b[0m\n\u001b[0m\u001b[1;32m      3\u001b[0m \u001b[0;32mfrom\u001b[0m \u001b[0mplotly\u001b[0m\u001b[0;34m.\u001b[0m\u001b[0moffline\u001b[0m \u001b[0;32mimport\u001b[0m \u001b[0mdownload_plotlyjs\u001b[0m\u001b[0;34m,\u001b[0m \u001b[0minit_notebook_mode\u001b[0m\u001b[0;34m,\u001b[0m \u001b[0mplot\u001b[0m\u001b[0;34m,\u001b[0m \u001b[0miplot\u001b[0m\u001b[0;34m\u001b[0m\u001b[0;34m\u001b[0m\u001b[0m\n\u001b[1;32m      4\u001b[0m \u001b[0;32mimport\u001b[0m \u001b[0mcufflinks\u001b[0m \u001b[0;32mas\u001b[0m \u001b[0mcf\u001b[0m\u001b[0;34m\u001b[0m\u001b[0;34m\u001b[0m\u001b[0m\n",
            "\u001b[0;32m/usr/local/lib/python3.6/dist-packages/plotly/plotly/__init__.py\u001b[0m in \u001b[0;36m<module>\u001b[0;34m()\u001b[0m\n\u001b[1;32m      2\u001b[0m \u001b[0;32mfrom\u001b[0m \u001b[0m_plotly_future_\u001b[0m \u001b[0;32mimport\u001b[0m \u001b[0m_chart_studio_error\u001b[0m\u001b[0;34m\u001b[0m\u001b[0;34m\u001b[0m\u001b[0m\n\u001b[1;32m      3\u001b[0m \u001b[0;34m\u001b[0m\u001b[0m\n\u001b[0;32m----> 4\u001b[0;31m \u001b[0m_chart_studio_error\u001b[0m\u001b[0;34m(\u001b[0m\u001b[0;34m\"plotly\"\u001b[0m\u001b[0;34m)\u001b[0m\u001b[0;34m\u001b[0m\u001b[0;34m\u001b[0m\u001b[0m\n\u001b[0m",
            "\u001b[0;32m/usr/local/lib/python3.6/dist-packages/_plotly_future_/__init__.py\u001b[0m in \u001b[0;36m_chart_studio_error\u001b[0;34m(submodule)\u001b[0m\n\u001b[1;32m     47\u001b[0m \u001b[0mchart_studio\u001b[0m\u001b[0;34m.\u001b[0m\u001b[0;34m{\u001b[0m\u001b[0msubmodule\u001b[0m\u001b[0;34m}\u001b[0m \u001b[0mmodule\u001b[0m \u001b[0minstead\u001b[0m\u001b[0;34m.\u001b[0m\u001b[0;34m\u001b[0m\u001b[0;34m\u001b[0m\u001b[0m\n\u001b[1;32m     48\u001b[0m \"\"\".format(\n\u001b[0;32m---> 49\u001b[0;31m             \u001b[0msubmodule\u001b[0m\u001b[0;34m=\u001b[0m\u001b[0msubmodule\u001b[0m\u001b[0;34m\u001b[0m\u001b[0;34m\u001b[0m\u001b[0m\n\u001b[0m\u001b[1;32m     50\u001b[0m         )\n\u001b[1;32m     51\u001b[0m     )\n",
            "\u001b[0;31mImportError\u001b[0m: \nThe plotly.plotly module is deprecated,\nplease install the chart-studio package and use the\nchart_studio.plotly module instead. \n",
            "",
            "\u001b[0;31m---------------------------------------------------------------------------\u001b[0;32m\nNOTE: If your import is failing due to a missing package, you can\nmanually install dependencies using either !pip or !apt.\n\nTo view examples of installing some common dependencies, click the\n\"Open Examples\" button below.\n\u001b[0;31m---------------------------------------------------------------------------\u001b[0m\n"
          ]
        }
      ]
    },
    {
      "cell_type": "code",
      "metadata": {
        "id": "betIEeK1zN47",
        "colab_type": "code",
        "colab": {
          "base_uri": "https://localhost:8080/",
          "height": 282
        },
        "outputId": "5c9bde6a-e033-4c4f-9c11-ae07143bee8e"
      },
      "source": [
        "data.iplot(kind='scatter',x='checkin',y='address',mode='markers',size=10, color = 'rgb(231, 9, 250)')"
      ],
      "execution_count": 31,
      "outputs": [
        {
          "output_type": "error",
          "ename": "AttributeError",
          "evalue": "ignored",
          "traceback": [
            "\u001b[0;31m---------------------------------------------------------------------------\u001b[0m",
            "\u001b[0;31mAttributeError\u001b[0m                            Traceback (most recent call last)",
            "\u001b[0;32m<ipython-input-31-f95b19532ecb>\u001b[0m in \u001b[0;36m<module>\u001b[0;34m()\u001b[0m\n\u001b[0;32m----> 1\u001b[0;31m \u001b[0mdata\u001b[0m\u001b[0;34m.\u001b[0m\u001b[0miplot\u001b[0m\u001b[0;34m(\u001b[0m\u001b[0mkind\u001b[0m\u001b[0;34m=\u001b[0m\u001b[0;34m'scatter'\u001b[0m\u001b[0;34m,\u001b[0m\u001b[0mx\u001b[0m\u001b[0;34m=\u001b[0m\u001b[0;34m'checkin'\u001b[0m\u001b[0;34m,\u001b[0m\u001b[0my\u001b[0m\u001b[0;34m=\u001b[0m\u001b[0;34m'address'\u001b[0m\u001b[0;34m,\u001b[0m\u001b[0mmode\u001b[0m\u001b[0;34m=\u001b[0m\u001b[0;34m'markers'\u001b[0m\u001b[0;34m,\u001b[0m\u001b[0msize\u001b[0m\u001b[0;34m=\u001b[0m\u001b[0;36m10\u001b[0m\u001b[0;34m,\u001b[0m \u001b[0mcolor\u001b[0m \u001b[0;34m=\u001b[0m \u001b[0;34m'rgb(231, 9, 250)'\u001b[0m\u001b[0;34m)\u001b[0m\u001b[0;34m\u001b[0m\u001b[0;34m\u001b[0m\u001b[0m\n\u001b[0m",
            "\u001b[0;32m/usr/local/lib/python3.6/dist-packages/pandas/core/generic.py\u001b[0m in \u001b[0;36m__getattr__\u001b[0;34m(self, name)\u001b[0m\n\u001b[1;32m   5177\u001b[0m             \u001b[0;32mif\u001b[0m \u001b[0mself\u001b[0m\u001b[0;34m.\u001b[0m\u001b[0m_info_axis\u001b[0m\u001b[0;34m.\u001b[0m\u001b[0m_can_hold_identifiers_and_holds_name\u001b[0m\u001b[0;34m(\u001b[0m\u001b[0mname\u001b[0m\u001b[0;34m)\u001b[0m\u001b[0;34m:\u001b[0m\u001b[0;34m\u001b[0m\u001b[0;34m\u001b[0m\u001b[0m\n\u001b[1;32m   5178\u001b[0m                 \u001b[0;32mreturn\u001b[0m \u001b[0mself\u001b[0m\u001b[0;34m[\u001b[0m\u001b[0mname\u001b[0m\u001b[0;34m]\u001b[0m\u001b[0;34m\u001b[0m\u001b[0;34m\u001b[0m\u001b[0m\n\u001b[0;32m-> 5179\u001b[0;31m             \u001b[0;32mreturn\u001b[0m \u001b[0mobject\u001b[0m\u001b[0;34m.\u001b[0m\u001b[0m__getattribute__\u001b[0m\u001b[0;34m(\u001b[0m\u001b[0mself\u001b[0m\u001b[0;34m,\u001b[0m \u001b[0mname\u001b[0m\u001b[0;34m)\u001b[0m\u001b[0;34m\u001b[0m\u001b[0;34m\u001b[0m\u001b[0m\n\u001b[0m\u001b[1;32m   5180\u001b[0m \u001b[0;34m\u001b[0m\u001b[0m\n\u001b[1;32m   5181\u001b[0m     \u001b[0;32mdef\u001b[0m \u001b[0m__setattr__\u001b[0m\u001b[0;34m(\u001b[0m\u001b[0mself\u001b[0m\u001b[0;34m,\u001b[0m \u001b[0mname\u001b[0m\u001b[0;34m,\u001b[0m \u001b[0mvalue\u001b[0m\u001b[0;34m)\u001b[0m\u001b[0;34m:\u001b[0m\u001b[0;34m\u001b[0m\u001b[0;34m\u001b[0m\u001b[0m\n",
            "\u001b[0;31mAttributeError\u001b[0m: 'DataFrame' object has no attribute 'iplot'"
          ]
        }
      ]
    }
  ]
}