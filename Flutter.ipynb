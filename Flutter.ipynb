{
  "nbformat": 4,
  "nbformat_minor": 0,
  "metadata": {
    "colab": {
      "name": "Flutter.ipynb",
      "provenance": [],
      "collapsed_sections": [],
      "include_colab_link": true
    },
    "kernelspec": {
      "name": "python3",
      "display_name": "Python 3"
    },
    "accelerator": "GPU"
  },
  "cells": [
    {
      "cell_type": "markdown",
      "metadata": {
        "id": "view-in-github",
        "colab_type": "text"
      },
      "source": [
        "<a href=\"https://colab.research.google.com/github/gombergere/arthomas/blob/master/Flutter.ipynb\" target=\"_parent\"><img src=\"https://colab.research.google.com/assets/colab-badge.svg\" alt=\"Open In Colab\"/></a>"
      ]
    },
    {
      "cell_type": "code",
      "metadata": {
        "id": "W23SjbX6MCnn",
        "colab_type": "code",
        "colab": {}
      },
      "source": [
        "import tensorflow as tf"
      ],
      "execution_count": 0,
      "outputs": []
    },
    {
      "cell_type": "code",
      "metadata": {
        "id": "FOuiG24pMaOe",
        "colab_type": "code",
        "colab": {
          "base_uri": "https://localhost:8080/",
          "height": 51
        },
        "outputId": "0ee6fbdb-4caf-4a05-95c9-0fabf1bcbad5"
      },
      "source": [
        "# Load the MNIST dataset\n",
        "mnist = tf.keras.datasets.mnist\n",
        "(x_train, y_train),(x_test, y_test) = mnist.load_data()\n",
        "\n",
        "# Normalize the training values\n",
        "x_train, x_test = x_train / 255.0, x_test / 255.0"
      ],
      "execution_count": 5,
      "outputs": [
        {
          "output_type": "stream",
          "text": [
            "Downloading data from https://storage.googleapis.com/tensorflow/tf-keras-datasets/mnist.npz\n",
            "11493376/11490434 [==============================] - 0s 0us/step\n"
          ],
          "name": "stdout"
        }
      ]
    },
    {
      "cell_type": "code",
      "metadata": {
        "id": "VMhZ_6khMmzt",
        "colab_type": "code",
        "colab": {}
      },
      "source": [
        "# A callback to stop our tranning\n",
        "# when reaching enough accuracy\n",
        "class myCallback(tf.keras.callbacks.Callback):\n",
        "  def on_epoch_end(self, epoch, logs={}):\n",
        "    if(logs.get('acc')>0.99):\n",
        "      print(\"\\nReached 99.0% accuracy so cancelling training!\")\n",
        "      self.model.stop_training = True"
      ],
      "execution_count": 0,
      "outputs": []
    },
    {
      "cell_type": "code",
      "metadata": {
        "id": "IyTwlDhzMxvm",
        "colab_type": "code",
        "colab": {
          "base_uri": "https://localhost:8080/",
          "height": 88
        },
        "outputId": "c66ee770-71c9-4d55-ea01-5b65d76997c4"
      },
      "source": [
        "# Create a basic model\n",
        "model = tf.keras.models.Sequential([\n",
        "  tf.keras.layers.Flatten(input_shape=(28, 28)),\n",
        "  tf.keras.layers.Dense(128, activation='relu'),\n",
        "  tf.keras.layers.Dropout(0.2),\n",
        "  tf.keras.layers.Dense(10, activation='softmax')\n",
        "])"
      ],
      "execution_count": 7,
      "outputs": [
        {
          "output_type": "stream",
          "text": [
            "WARNING:tensorflow:From /usr/local/lib/python3.6/dist-packages/tensorflow_core/python/ops/resource_variable_ops.py:1630: calling BaseResourceVariable.__init__ (from tensorflow.python.ops.resource_variable_ops) with constraint is deprecated and will be removed in a future version.\n",
            "Instructions for updating:\n",
            "If using Keras pass *_constraint arguments to layers.\n"
          ],
          "name": "stdout"
        }
      ]
    },
    {
      "cell_type": "code",
      "metadata": {
        "id": "RY8ojNcxM5Nc",
        "colab_type": "code",
        "colab": {}
      },
      "source": [
        "# Compile the model\n",
        "model.compile(optimizer='adam',\n",
        "              loss='sparse_categorical_crossentropy',\n",
        "              metrics=['accuracy'])"
      ],
      "execution_count": 0,
      "outputs": []
    },
    {
      "cell_type": "code",
      "metadata": {
        "id": "D4aZfH4nNBqt",
        "colab_type": "code",
        "colab": {
          "base_uri": "https://localhost:8080/",
          "height": 663
        },
        "outputId": "36353212-5b5b-488f-b9d5-4ad75d9b64ee"
      },
      "source": [
        "# Train the model\n",
        "model.fit(x_train, \n",
        "          y_train, \n",
        "          epochs=25,\n",
        "          callbacks=[myCallback()])"
      ],
      "execution_count": 9,
      "outputs": [
        {
          "output_type": "stream",
          "text": [
            "Train on 60000 samples\n",
            "Epoch 1/25\n",
            "60000/60000 [==============================] - 6s 103us/sample - loss: 0.2961 - acc: 0.9140\n",
            "Epoch 2/25\n",
            "60000/60000 [==============================] - 5s 91us/sample - loss: 0.1443 - acc: 0.9572\n",
            "Epoch 3/25\n",
            "60000/60000 [==============================] - 5s 89us/sample - loss: 0.1073 - acc: 0.9674\n",
            "Epoch 4/25\n",
            "60000/60000 [==============================] - 5s 89us/sample - loss: 0.0875 - acc: 0.9731\n",
            "Epoch 5/25\n",
            "60000/60000 [==============================] - 5s 87us/sample - loss: 0.0725 - acc: 0.9773\n",
            "Epoch 6/25\n",
            "60000/60000 [==============================] - 5s 89us/sample - loss: 0.0656 - acc: 0.9789\n",
            "Epoch 7/25\n",
            "60000/60000 [==============================] - 5s 89us/sample - loss: 0.0585 - acc: 0.9810\n",
            "Epoch 8/25\n",
            "60000/60000 [==============================] - 5s 87us/sample - loss: 0.0500 - acc: 0.9837\n",
            "Epoch 9/25\n",
            "60000/60000 [==============================] - 5s 89us/sample - loss: 0.0467 - acc: 0.9844\n",
            "Epoch 10/25\n",
            "60000/60000 [==============================] - 5s 88us/sample - loss: 0.0435 - acc: 0.9857\n",
            "Epoch 11/25\n",
            "60000/60000 [==============================] - 5s 89us/sample - loss: 0.0394 - acc: 0.9869\n",
            "Epoch 12/25\n",
            "60000/60000 [==============================] - 5s 89us/sample - loss: 0.0384 - acc: 0.9869\n",
            "Epoch 13/25\n",
            "60000/60000 [==============================] - 5s 88us/sample - loss: 0.0345 - acc: 0.9880\n",
            "Epoch 14/25\n",
            "60000/60000 [==============================] - 5s 90us/sample - loss: 0.0324 - acc: 0.9888\n",
            "Epoch 15/25\n",
            "60000/60000 [==============================] - 5s 88us/sample - loss: 0.0324 - acc: 0.9888\n",
            "Epoch 16/25\n",
            "60000/60000 [==============================] - 5s 89us/sample - loss: 0.0308 - acc: 0.9892\n",
            "Epoch 17/25\n",
            "59680/60000 [============================>.] - ETA: 0s - loss: 0.0299 - acc: 0.9907\n",
            "Reached 99.0% accuracy so cancelling training!\n",
            "60000/60000 [==============================] - 5s 89us/sample - loss: 0.0298 - acc: 0.9907\n"
          ],
          "name": "stdout"
        },
        {
          "output_type": "execute_result",
          "data": {
            "text/plain": [
              "<tensorflow.python.keras.callbacks.History at 0x7f158b00bb00>"
            ]
          },
          "metadata": {
            "tags": []
          },
          "execution_count": 9
        }
      ]
    },
    {
      "cell_type": "code",
      "metadata": {
        "id": "IceNzjwCN_aA",
        "colab_type": "code",
        "colab": {
          "base_uri": "https://localhost:8080/",
          "height": 51
        },
        "outputId": "804728c3-9065-42c6-ea17-8dab0f535ea7"
      },
      "source": [
        "# Evaluate the model\n",
        "model.evaluate(x_test, y_test)"
      ],
      "execution_count": 10,
      "outputs": [
        {
          "output_type": "stream",
          "text": [
            "10000/10000 [==============================] - 1s 70us/sample - loss: 0.0827 - acc: 0.9789\n"
          ],
          "name": "stdout"
        },
        {
          "output_type": "execute_result",
          "data": {
            "text/plain": [
              "[0.08268977951073467, 0.9789]"
            ]
          },
          "metadata": {
            "tags": []
          },
          "execution_count": 10
        }
      ]
    },
    {
      "cell_type": "code",
      "metadata": {
        "id": "2veIq61CONMn",
        "colab_type": "code",
        "colab": {}
      },
      "source": [
        "# Save the model\n",
        "model.save('mnist_model.h5')"
      ],
      "execution_count": 0,
      "outputs": []
    },
    {
      "cell_type": "code",
      "metadata": {
        "id": "i_T0pOynOdFa",
        "colab_type": "code",
        "colab": {
          "base_uri": "https://localhost:8080/"
        },
        "outputId": "1b204751-f638-42c7-cc71-598a78e2f5b5"
      },
      "source": [
        "converter = tf.lite.TFLiteConverter.from_keras_model_file('mnist_model.h5')\n",
        "tflite_model = converter.convert()\n",
        "open(\"converted_mnist_model.tflite\", \"wb\").write(tflite_model)"
      ],
      "execution_count": 12,
      "outputs": [
        {
          "output_type": "stream",
          "text": [
            "WARNING:tensorflow:From /usr/local/lib/python3.6/dist-packages/tensorflow_core/python/ops/init_ops.py:97: calling GlorotUniform.__init__ (from tensorflow.python.ops.init_ops) with dtype is deprecated and will be removed in a future version.\n",
            "Instructions for updating:\n",
            "Call initializer instance with the dtype argument instead of passing it to the constructor\n",
            "WARNING:tensorflow:From /usr/local/lib/python3.6/dist-packages/tensorflow_core/python/ops/init_ops.py:97: calling Zeros.__init__ (from tensorflow.python.ops.init_ops) with dtype is deprecated and will be removed in a future version.\n",
            "Instructions for updating:\n",
            "Call initializer instance with the dtype argument instead of passing it to the constructor\n",
            "WARNING:tensorflow:From /usr/local/lib/python3.6/dist-packages/tensorflow_core/lite/python/util.py:249: convert_variables_to_constants (from tensorflow.python.framework.graph_util_impl) is deprecated and will be removed in a future version.\n",
            "Instructions for updating:\n",
            "Use `tf.compat.v1.graph_util.convert_variables_to_constants`\n",
            "WARNING:tensorflow:From /usr/local/lib/python3.6/dist-packages/tensorflow_core/python/framework/graph_util_impl.py:277: extract_sub_graph (from tensorflow.python.framework.graph_util_impl) is deprecated and will be removed in a future version.\n",
            "Instructions for updating:\n",
            "Use `tf.compat.v1.graph_util.extract_sub_graph`\n",
            "INFO:tensorflow:Froze 4 variables.\n",
            "INFO:tensorflow:Converted 4 variables to const ops.\n"
          ],
          "name": "stdout"
        },
        {
          "output_type": "execute_result",
          "data": {
            "text/plain": [
              "408224"
            ]
          },
          "metadata": {
            "tags": []
          },
          "execution_count": 12
        }
      ]
    },
    {
      "cell_type": "code",
      "metadata": {
        "id": "2g9Gw2BsOsEq",
        "colab_type": "code",
        "colab": {}
      },
      "source": [
        "# Download the tflite model\n",
        "from google.colab import files\n",
        "\n",
        "files.download('converted_mnist_model.tflite')"
      ],
      "execution_count": 0,
      "outputs": []
    },
    {
      "cell_type": "code",
      "metadata": {
        "id": "amHWA0_oO14J",
        "colab_type": "code",
        "colab": {}
      },
      "source": [
        "# Uncomment and use this block if you want test the model\n",
        "# prediction with your own images\n",
        "\n",
        "# import numpy as np\n",
        "# from google.colab import files\n",
        "# from keras.preprocessing import image\n",
        "# from PIL import Image\n",
        "\n",
        "\n",
        "# uploaded = files.upload()\n",
        "\n",
        "# for fn in uploaded.keys():\n",
        "#   # predicting images\n",
        "#   path = fn\n",
        "#   img = Image.open(path).convert(\"L\")\n",
        "#   x = image.img_to_array(img)\n",
        "#   x = np.expand_dims(x, axis=0)\n",
        "\n",
        "#   images = np.vstack([x])\n",
        "#   classes = model.predict(images)\n",
        "#   print(fn)\n",
        "#   print(classes)"
      ],
      "execution_count": 0,
      "outputs": []
    }
  ]
}