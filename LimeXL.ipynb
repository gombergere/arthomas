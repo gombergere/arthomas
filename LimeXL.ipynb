{
  "nbformat": 4,
  "nbformat_minor": 0,
  "metadata": {
    "colab": {
      "name": "LimeXL.ipynb",
      "provenance": [],
      "collapsed_sections": [],
      "include_colab_link": true
    },
    "kernelspec": {
      "name": "python3",
      "display_name": "Python 3"
    },
    "accelerator": "GPU"
  },
  "cells": [
    {
      "cell_type": "markdown",
      "metadata": {
        "id": "view-in-github",
        "colab_type": "text"
      },
      "source": [
        "<a href=\"https://colab.research.google.com/github/gombergere/arthomas/blob/master/LimeXL.ipynb\" target=\"_parent\"><img src=\"https://colab.research.google.com/assets/colab-badge.svg\" alt=\"Open In Colab\"/></a>"
      ]
    },
    {
      "cell_type": "code",
      "metadata": {
        "id": "AQjUgpp3E3Au",
        "colab_type": "code",
        "colab": {}
      },
      "source": [
        "#Source : https://towardsdatascience.com/interpretable-machine-learning-for-image-classification-with-lime-ea947e82ca13\n",
        "#L'article traite un problème \"pointu\", mais comme il est écrit pour Colab, sa recope marche comm un charme\n",
        "#on est également étonné de voir la rapidité avec laquelle les calculs sont effectués"
      ],
      "execution_count": 0,
      "outputs": []
    },
    {
      "cell_type": "code",
      "metadata": {
        "id": "br6xVGz3-X2i",
        "colab_type": "code",
        "colab": {}
      },
      "source": [
        "import numpy as np\n",
        "import keras\n",
        "from keras.applications.imagenet_utils import decode_predictions\n",
        "import skimage\n",
        "import skimage.segmentation\n",
        "import copy\n",
        "import sklearn\n",
        "import sklearn.metrics\n",
        "from sklearn.linear_model import LinearRegression\n",
        "import warnings\n",
        "\n",
        "print('Notebook running: keras ', keras.__version__)\n",
        "np.random.seed(222)"
      ],
      "execution_count": 0,
      "outputs": []
    },
    {
      "cell_type": "code",
      "metadata": {
        "id": "8uxnktcx-qhj",
        "colab_type": "code",
        "colab": {}
      },
      "source": [
        "warnings.filterwarnings('ignore') \n",
        "inceptionV3_model = keras.applications.inception_v3.InceptionV3() #Load pretrained model"
      ],
      "execution_count": 0,
      "outputs": []
    },
    {
      "cell_type": "code",
      "metadata": {
        "id": "uK4YzyVU_DGB",
        "colab_type": "code",
        "colab": {}
      },
      "source": [
        "Xi = skimage.io.imread(\"https://arteagac.github.io/blog/lime_image/img/cat-and-dog.jpg\")\n",
        "Xi = skimage.transform.resize(Xi, (299,299)) \n",
        "Xi = (Xi - 0.5)*2 #Inception pre-processing\n",
        "skimage.io.imshow(Xi/2+0.5) # Show image before inception preprocessing"
      ],
      "execution_count": 0,
      "outputs": []
    },
    {
      "cell_type": "code",
      "metadata": {
        "id": "RF8HD1NU_ZXN",
        "colab_type": "code",
        "colab": {}
      },
      "source": [
        "np.random.seed(222)\n",
        "preds = inceptionV3_model.predict(Xi[np.newaxis,:,:,:])\n",
        "decode_predictions(preds)[0] #Top 5 classes"
      ],
      "execution_count": 0,
      "outputs": []
    },
    {
      "cell_type": "code",
      "metadata": {
        "id": "a74A8EYR_lEK",
        "colab_type": "code",
        "colab": {}
      },
      "source": [
        "top_pred_classes = preds[0].argsort()[-5:][::-1]\n",
        "top_pred_classes                #Index of top 5 classes"
      ],
      "execution_count": 0,
      "outputs": []
    },
    {
      "cell_type": "code",
      "metadata": {
        "id": "0CkF5brx_3tc",
        "colab_type": "code",
        "colab": {}
      },
      "source": [
        "superpixels = skimage.segmentation.quickshift(Xi, kernel_size=4,max_dist=200, ratio=0.2)\n",
        "num_superpixels = np.unique(superpixels).shape[0]\n",
        "num_superpixels"
      ],
      "execution_count": 0,
      "outputs": []
    },
    {
      "cell_type": "code",
      "metadata": {
        "id": "TBf6KBjW_71W",
        "colab_type": "code",
        "colab": {}
      },
      "source": [
        "skimage.io.imshow(skimage.segmentation.mark_boundaries(Xi/2+0.5, superpixels))"
      ],
      "execution_count": 0,
      "outputs": []
    },
    {
      "cell_type": "code",
      "metadata": {
        "id": "uPaYKm_EACuo",
        "colab_type": "code",
        "colab": {}
      },
      "source": [
        "num_perturb = 150\n",
        "perturbations = np.random.binomial(1, 0.5, size=(num_perturb, num_superpixels))\n",
        "perturbations[0] #Show example of perturbation"
      ],
      "execution_count": 0,
      "outputs": []
    },
    {
      "cell_type": "code",
      "metadata": {
        "id": "Kn3X_PsEAUeh",
        "colab_type": "code",
        "colab": {}
      },
      "source": [
        "def perturb_image(img,perturbation,segments):\n",
        "  active_pixels = np.where(perturbation == 1)[0]\n",
        "  mask = np.zeros(segments.shape)\n",
        "  for active in active_pixels:\n",
        "      mask[segments == active] = 1 \n",
        "  perturbed_image = copy.deepcopy(img)\n",
        "  perturbed_image = perturbed_image*mask[:,:,np.newaxis]\n",
        "  return perturbed_image"
      ],
      "execution_count": 0,
      "outputs": []
    },
    {
      "cell_type": "code",
      "metadata": {
        "id": "EeCp2eyuAf9W",
        "colab_type": "code",
        "colab": {}
      },
      "source": [
        "skimage.io.imshow(perturb_image(Xi/2+0.5,perturbations[0],superpixels))"
      ],
      "execution_count": 0,
      "outputs": []
    },
    {
      "cell_type": "code",
      "metadata": {
        "id": "QsWqOYTyAm6D",
        "colab_type": "code",
        "colab": {}
      },
      "source": [
        "predictions = []\n",
        "for pert in perturbations:\n",
        "  perturbed_img = perturb_image(Xi,pert,superpixels)\n",
        "  pred = inceptionV3_model.predict(perturbed_img[np.newaxis,:,:,:])\n",
        "  predictions.append(pred)\n",
        "\n",
        "predictions = np.array(predictions)\n",
        "predictions.shape"
      ],
      "execution_count": 0,
      "outputs": []
    },
    {
      "cell_type": "code",
      "metadata": {
        "id": "Qsaen63mA4CB",
        "colab_type": "code",
        "colab": {}
      },
      "source": [
        "original_image = np.ones(num_superpixels)[np.newaxis,:] #Perturbation with all superpixels enabled \n",
        "distances = sklearn.metrics.pairwise_distances(perturbations,original_image, metric='cosine').ravel()\n",
        "distances.shape"
      ],
      "execution_count": 0,
      "outputs": []
    },
    {
      "cell_type": "code",
      "metadata": {
        "id": "sern2Y8CBFNb",
        "colab_type": "code",
        "colab": {}
      },
      "source": [
        "kernel_width = 0.25\n",
        "weights = np.sqrt(np.exp(-(distances**2)/kernel_width**2)) #Kernel function\n",
        "weights.shape"
      ],
      "execution_count": 0,
      "outputs": []
    },
    {
      "cell_type": "code",
      "metadata": {
        "id": "_-4VF0lsBZZF",
        "colab_type": "code",
        "colab": {}
      },
      "source": [
        "class_to_explain = top_pred_classes[0]\n",
        "simpler_model = LinearRegression()\n",
        "simpler_model.fit(X=perturbations, y=predictions[:,:,class_to_explain], sample_weight=weights)\n",
        "coeff = simpler_model.coef_[0]\n",
        "coeff"
      ],
      "execution_count": 0,
      "outputs": []
    },
    {
      "cell_type": "code",
      "metadata": {
        "id": "h9q2Rgb2Bg1L",
        "colab_type": "code",
        "colab": {}
      },
      "source": [
        "num_top_features = 4\n",
        "top_features = np.argsort(coeff)[-num_top_features:] \n",
        "top_features"
      ],
      "execution_count": 0,
      "outputs": []
    },
    {
      "cell_type": "code",
      "metadata": {
        "id": "BkGwJyc0B1hN",
        "colab_type": "code",
        "colab": {}
      },
      "source": [
        "mask = np.zeros(num_superpixels) \n",
        "mask[top_features]= True #Activate top superpixels\n",
        "skimage.io.imshow(perturb_image(Xi/2+0.5,mask,superpixels) )"
      ],
      "execution_count": 0,
      "outputs": []
    }
  ]
}