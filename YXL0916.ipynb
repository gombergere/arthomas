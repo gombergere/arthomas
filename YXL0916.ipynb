{
  "nbformat": 4,
  "nbformat_minor": 0,
  "metadata": {
    "colab": {
      "name": "YXL0916.ipynb",
      "provenance": [],
      "collapsed_sections": [],
      "include_colab_link": true
    },
    "kernelspec": {
      "name": "python3",
      "display_name": "Python 3"
    },
    "accelerator": "GPU"
  },
  "cells": [
    {
      "cell_type": "markdown",
      "metadata": {
        "id": "view-in-github",
        "colab_type": "text"
      },
      "source": [
        "<a href=\"https://colab.research.google.com/github/gombergere/arthomas/blob/master/YXL0916.ipynb\" target=\"_parent\"><img src=\"https://colab.research.google.com/assets/colab-badge.svg\" alt=\"Open In Colab\"/></a>"
      ]
    },
    {
      "cell_type": "code",
      "metadata": {
        "id": "W34DXt-OkQS-",
        "colab_type": "code",
        "colab": {}
      },
      "source": [
        "#Appli de réference\n",
        "#améliorée au fil du temps\n",
        "#noter la bibli cython=C+Python-> performances égales au C"
      ],
      "execution_count": 0,
      "outputs": []
    },
    {
      "cell_type": "code",
      "metadata": {
        "id": "PcP5XE3x3Cxh",
        "colab_type": "code",
        "colab": {}
      },
      "source": [
        "\n",
        "!pip install pydrive\n",
        "!git clone https://github.com/thtrieu/darkflow.git \n",
        "!pip install Cython\n",
        "!pip install pytube\n",
        "!pip install PyDrive\n"
      ],
      "execution_count": 0,
      "outputs": []
    },
    {
      "cell_type": "code",
      "metadata": {
        "id": "x-xBl1nn5iiB",
        "colab_type": "code",
        "colab": {}
      },
      "source": [
        "import os \n",
        "os.chdir('/content/darkflow') \n",
        "!pwd"
      ],
      "execution_count": 0,
      "outputs": []
    },
    {
      "cell_type": "code",
      "metadata": {
        "id": "jSprO-EQ5wju",
        "colab_type": "code",
        "colab": {}
      },
      "source": [
        "!pip install -e ."
      ],
      "execution_count": 0,
      "outputs": []
    },
    {
      "cell_type": "code",
      "metadata": {
        "id": "g8FGMuVLJB69",
        "colab_type": "code",
        "colab": {}
      },
      "source": [
        "import pydrive\n",
        "import time\n",
        "from tqdm import tqdm\n",
        "from pydrive.auth import GoogleAuth\n",
        "from pydrive.drive import GoogleDrive\n",
        "from google.colab import auth\n",
        "from google.colab import files\n",
        "from oauth2client.client import GoogleCredentials\n",
        "\n",
        "auth.authenticate_user()\n",
        "gauth = GoogleAuth()\n",
        "gauth.credentials = GoogleCredentials.get_application_default()\n",
        "drive = GoogleDrive(gauth)"
      ],
      "execution_count": 0,
      "outputs": []
    },
    {
      "cell_type": "code",
      "metadata": {
        "id": "jdgGkEVsKcih",
        "colab_type": "code",
        "colab": {}
      },
      "source": [
        "#repare un oubli de l'auteur\n",
        "!mkdir /content/darkflow/bin"
      ],
      "execution_count": 0,
      "outputs": []
    },
    {
      "cell_type": "code",
      "metadata": {
        "id": "YNVPKBTPJZ9h",
        "colab_type": "code",
        "colab": {}
      },
      "source": [
        "download = drive.CreateFile({'id': '1J-GZ6mvhu12j19zZtq9fTbnyJeCgxE0g'}) # insert the fild ID here\n",
        "download.GetContentFile('/content/darkflow/bin/yolov2.weights')"
      ],
      "execution_count": 0,
      "outputs": []
    },
    {
      "cell_type": "code",
      "metadata": {
        "id": "v88YDaYo6a3t",
        "colab_type": "code",
        "colab": {}
      },
      "source": [
        "%matplotlib inline\n",
        "import matplotlib.pyplot as plt\n",
        "import numpy as np\n",
        "\n",
        "from darkflow.net.build import TFNet\n",
        "import cv2"
      ],
      "execution_count": 0,
      "outputs": []
    },
    {
      "cell_type": "code",
      "metadata": {
        "id": "M0vRsvsAMNl2",
        "colab_type": "code",
        "colab": {}
      },
      "source": [
        "options = {\n",
        "    'model': 'cfg/yolo.cfg',\n",
        "    'load': 'bin/yolov2.weights',\n",
        "    'threshold': 0.3,\n",
        "    'gpu' : 1.0\n",
        "          }\n",
        "tfnet = TFNet(options)"
      ],
      "execution_count": 0,
      "outputs": []
    },
    {
      "cell_type": "code",
      "metadata": {
        "id": "jeQj8f6X3Zon",
        "colab_type": "code",
        "colab": {}
      },
      "source": [
        "from google.colab import files\n",
        "file = files.upload()"
      ],
      "execution_count": 0,
      "outputs": []
    },
    {
      "cell_type": "code",
      "metadata": {
        "id": "LE-Dd3tWsbvI",
        "colab_type": "code",
        "colab": {}
      },
      "source": [
        "import pprint as pp\n",
        "\n",
        "original_img = cv2.imread(\"multiple.jpg\")\n",
        "original_img = cv2.cvtColor(original_img, cv2.COLOR_BGR2RGB)\n",
        "\n",
        "# sauf erreur l'instruction suivante est le \"moteur\" de la détection\n",
        "results = tfnet.return_predict(original_img)\n",
        "#results est entré ensite commme donnée de boxing qui fabrique l'image détectée\n",
        "# l'instruction suivante édite le résultat de la détection.Voir le listing suivant\n",
        "\n",
        "pp.pprint(results)"
      ],
      "execution_count": 0,
      "outputs": []
    },
    {
      "cell_type": "code",
      "metadata": {
        "id": "eVU_Mxyk7u2L",
        "colab_type": "code",
        "colab": {}
      },
      "source": [
        "fig, ax = plt.subplots(figsize=(10, 10))\n",
        "ax.imshow(original_img)"
      ],
      "execution_count": 0,
      "outputs": []
    },
    {
      "cell_type": "code",
      "metadata": {
        "id": "l0xXczWY77G3",
        "colab_type": "code",
        "colab": {}
      },
      "source": [
        "def boxing(original_img, predictions):\n",
        "    newImage = np.copy(original_img)\n",
        "\n",
        "    for result in predictions:\n",
        "        top_x = result['topleft']['x']\n",
        "        top_y = result['topleft']['y']\n",
        "\n",
        "        btm_x = result['bottomright']['x']\n",
        "        btm_y = result['bottomright']['y']\n",
        "\n",
        "        confidence = result['confidence']\n",
        "        label = result['label'] + \" \" + str(round(confidence, 3))\n",
        "\n",
        "        if confidence > 0.3:\n",
        "            newImage = cv2.rectangle(newImage, (top_x, top_y), (btm_x, btm_y), (255,0,0), 3)\n",
        "            newImage = cv2.putText(newImage, label, (top_x, top_y-5), cv2.FONT_HERSHEY_COMPLEX_SMALL , 0.8, (0, 230, 0), 1, cv2.LINE_AA)\n",
        "            \n",
        "    return newImage"
      ],
      "execution_count": 0,
      "outputs": []
    },
    {
      "cell_type": "code",
      "metadata": {
        "id": "VU2OA_NS8CVU",
        "colab_type": "code",
        "colab": {}
      },
      "source": [
        "fig, ax = plt.subplots(figsize=(20, 10))\n",
        "ax.imshow(boxing(original_img, results))"
      ],
      "execution_count": 0,
      "outputs": []
    },
    {
      "cell_type": "code",
      "metadata": {
        "id": "c4-HyHej8Pw9",
        "colab_type": "code",
        "colab": {}
      },
      "source": [
        "#chargement dde la video\n",
        "from google.colab import files\n",
        "file = files.upload()"
      ],
      "execution_count": 0,
      "outputs": []
    },
    {
      "cell_type": "code",
      "metadata": {
        "id": "1jBM_-e68bpm",
        "colab_type": "code",
        "colab": {}
      },
      "source": [
        "cap = cv2.VideoCapture(\"video.mp4\")\n",
        "width = cap.get(cv2.CAP_PROP_FRAME_WIDTH)   \n",
        "height = cap.get(cv2.CAP_PROP_FRAME_HEIGHT) \n",
        "from google.colab.patches import cv2_imshow\n",
        "\n",
        "fourcc = cv2.VideoWriter_fourcc(*'DIVX')\n",
        "out = cv2.VideoWriter('output.avi',fourcc, 20.0, (int(width), int(height)))\n",
        "\n",
        "while(True):\n",
        "   # Capture frame-by-frame\n",
        "   ret, frame = cap.read()\n",
        "    \n",
        "   if ret == True:\n",
        "       frame = np.asarray(frame)\n",
        "       results = tfnet.return_predict(frame)\n",
        "\n",
        "       new_frame = boxing(frame, results)\n",
        "\n",
        "       # Display the resulting frame\n",
        "       out.write(new_frame)\n",
        "        \n",
        "       #cv2.imshow('frame',new_frame)\n",
        "       #cv2_imshow('frame')\n",
        "       if cv2.waitKey(1) & 0xFF == ord('q'):\n",
        "            break\n",
        "   else:\n",
        "       break\n",
        "\n",
        "# When everything done, release the capture\n",
        "cap.release()\n",
        "out.release()\n",
        "cv2.destroyAllWindows()\n",
        "\n",
        "# et voilà ,c'est fait..."
      ],
      "execution_count": 0,
      "outputs": []
    },
    {
      "cell_type": "code",
      "metadata": {
        "id": "GaUh-q17k98J",
        "colab_type": "code",
        "colab": {}
      },
      "source": [
        ""
      ],
      "execution_count": 0,
      "outputs": []
    }
  ]
}