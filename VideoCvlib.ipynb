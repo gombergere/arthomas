{
  "nbformat": 4,
  "nbformat_minor": 0,
  "metadata": {
    "colab": {
      "name": "VideoCvlib.ipynb",
      "provenance": [],
      "collapsed_sections": [],
      "include_colab_link": true
    },
    "kernelspec": {
      "name": "python3",
      "display_name": "Python 3"
    },
    "accelerator": "GPU"
  },
  "cells": [
    {
      "cell_type": "markdown",
      "metadata": {
        "id": "view-in-github",
        "colab_type": "text"
      },
      "source": [
        "<a href=\"https://colab.research.google.com/github/gombergere/arthomas/blob/master/VideoCvlib.ipynb\" target=\"_parent\"><img src=\"https://colab.research.google.com/assets/colab-badge.svg\" alt=\"Open In Colab\"/></a>"
      ]
    },
    {
      "cell_type": "code",
      "metadata": {
        "id": "ibqAfwP1u4E7",
        "colab_type": "code",
        "colab": {}
      },
      "source": [
        "#l'appli montre comment faire de la détection d'objet sur une video.\n",
        "#C'est très tres long et ca ne pesente aucun interet.\n",
        "#L'interet évenuel c'est pour faire une demo avec une webcam sur un stand\n",
        "#Ici l'intérêt est d'utiliser la bibli cvlib pour traiter une video.\n",
        "#On dispose ainsi d'un jeu complet de détection d'objet.\n",
        "#De façon générale l'interêt majeur de cvlib est de simplifier considérablement le probleme\n",
        "#pour en savoir plus cvlib/object_detection_webcam...\n",
        "#penser à activer la GPU"
      ],
      "execution_count": 0,
      "outputs": []
    },
    {
      "cell_type": "code",
      "metadata": {
        "id": "QHK6_b9eSEpg",
        "colab_type": "code",
        "colab": {}
      },
      "source": [
        "!pip install opencv-python\n",
        "!pip install cvlib\n",
        "from cvlib.object_detection import draw_bbox\n",
        "import cv2\n",
        "import cvlib as cv"
      ],
      "execution_count": 0,
      "outputs": []
    },
    {
      "cell_type": "code",
      "metadata": {
        "id": "NlZlnR4cRWMI",
        "colab_type": "code",
        "colab": {}
      },
      "source": [
        "#chargement dde la video\n",
        "from google.colab import files\n",
        "file = files.upload()"
      ],
      "execution_count": 0,
      "outputs": []
    },
    {
      "cell_type": "code",
      "metadata": {
        "id": "uX3yGdfRiDaA",
        "colab_type": "code",
        "colab": {}
      },
      "source": [
        "import cvlib as cv\n",
        "from cvlib.object_detection import draw_bbox\n",
        "import cv2\n",
        "\n",
        "# Traitement d'une video\n",
        "cap = cv2.VideoCapture(\"child.mp4\")\n",
        "width = cap.get(cv2.CAP_PROP_FRAME_WIDTH)   \n",
        "height = cap.get(cv2.CAP_PROP_FRAME_HEIGHT) \n",
        "\n",
        "from google.colab.patches import cv2_imshow\n",
        "\n",
        "fourcc = cv2.VideoWriter_fourcc(*'DIVX')\n",
        "out = cv2.VideoWriter('output.avi',fourcc, 20.0, (int(width), int(height)))\n",
        "\n",
        "if not cap.isOpened():\n",
        "    print(\"Could not open cap\")\n",
        "    exit()\n",
        "    \n",
        "while (True):\n",
        "    # read frame from webcam \n",
        "    status, frame = cap.read()\n",
        "\n",
        "    if not status:\n",
        "        print(\"Could not read frame\")\n",
        "        exit()\n",
        "\n",
        "    # apply object detection\n",
        "    bbox, label, conf = cv.detect_common_objects(frame)\n",
        "\n",
        "    # draw bounding box over detected objects\n",
        "    output = draw_bbox(frame, bbox, label, conf)\n",
        "    out.write(output)\n",
        "\n",
        "    # press \"Q\" to stop\n",
        "    if cv2.waitKey(1) & 0xFF == ord('q'):\n",
        "        break\n",
        "    \n",
        "# release resources\n",
        "cap.release()\n",
        "cv2.destroyAllWindows()        "
      ],
      "execution_count": 0,
      "outputs": []
    }
  ]
}