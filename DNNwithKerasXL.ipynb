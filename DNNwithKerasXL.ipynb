{
  "nbformat": 4,
  "nbformat_minor": 0,
  "metadata": {
    "colab": {
      "name": "DNNwithKerasXL.ipynb",
      "provenance": [],
      "collapsed_sections": [],
      "include_colab_link": true
    },
    "kernelspec": {
      "name": "python3",
      "display_name": "Python 3"
    },
    "accelerator": "GPU"
  },
  "cells": [
    {
      "cell_type": "markdown",
      "metadata": {
        "id": "view-in-github",
        "colab_type": "text"
      },
      "source": [
        "<a href=\"https://colab.research.google.com/github/gombergere/arthomas/blob/master/DNNwithKerasXL.ipynb\" target=\"_parent\"><img src=\"https://colab.research.google.com/assets/colab-badge.svg\" alt=\"Open In Colab\"/></a>"
      ]
    },
    {
      "cell_type": "code",
      "metadata": {
        "id": "R0ryBnb1t83b",
        "colab_type": "code",
        "colab": {}
      },
      "source": [
        "# L'exemple suivant est issu de l'article ...\n",
        "#...https://blog.eduonix.com/artificial-intelligence/deep-neural-networks-keras/\n",
        "#...Il marche, il est simple, il est un bon exemple\n",
        "#...Il est assisté par un bon article à la fois basique et extensif\n",
        "#...Mais attention il contient des erreurs typographiques, corrigéées ici\n",
        "#...Il a fallu aussi corriger le n° 35 pour que ça marche\n",
        "#...That's All Folks"
      ],
      "execution_count": 0,
      "outputs": []
    },
    {
      "cell_type": "code",
      "metadata": {
        "id": "4t9DXycOhYhG",
        "colab_type": "code",
        "colab": {}
      },
      "source": [
        "!pip install numpy scipy\n",
        "!pip install scikit-learn\n",
        "!pip install pillow\n",
        "!pip install h5py\n",
        "!pip install tensorflow\n",
        "!pip install keras\n",
        "from keras.models import Sequential, load_model\n",
        "from keras.layers.core import Dense, Activation\n",
        "from keras.utils import np_utils\n",
        " "
      ],
      "execution_count": 0,
      "outputs": []
    },
    {
      "cell_type": "code",
      "metadata": {
        "id": "MkUrANbehzfR",
        "colab_type": "code",
        "colab": {}
      },
      "source": [
        "from keras.datasets import mnist\n",
        "(x_train, y_train), (x_test, y_test) = mnist.load_data()"
      ],
      "execution_count": 0,
      "outputs": []
    },
    {
      "cell_type": "code",
      "metadata": {
        "id": "mnTo1lwViHJo",
        "colab_type": "code",
        "colab": {}
      },
      "source": [
        "x_train.shape\n",
        "x_test.shape"
      ],
      "execution_count": 0,
      "outputs": []
    },
    {
      "cell_type": "code",
      "metadata": {
        "id": "ki8e4T6BilG4",
        "colab_type": "code",
        "colab": {}
      },
      "source": [
        "import matplotlib.pyplot as plt\n",
        "image_number= 3457\n",
        "print(\"The label for the image being displayed is:\")\n",
        "print(y_train[image_number])\n",
        "plt.imshow(x_train[image_number], cmap='Greys')"
      ],
      "execution_count": 0,
      "outputs": []
    },
    {
      "cell_type": "code",
      "metadata": {
        "id": "OazI47dki2z7",
        "colab_type": "code",
        "colab": {}
      },
      "source": [
        "X_train = x_train.reshape(60000, 784)\n",
        "X_test = x_test.reshape(10000, 784)"
      ],
      "execution_count": 0,
      "outputs": []
    },
    {
      "cell_type": "code",
      "metadata": {
        "id": "YgArUoUzjBRc",
        "colab_type": "code",
        "colab": {}
      },
      "source": [
        "X_train =X_train/255.0\n",
        "X_test =X_test/255.0\n",
        "#train_images = train_images/255.0\n",
        "#test_images = test_images/255.0"
      ],
      "execution_count": 0,
      "outputs": []
    },
    {
      "cell_type": "code",
      "metadata": {
        "id": "rNo_diWojrn5",
        "colab_type": "code",
        "colab": {}
      },
      "source": [
        "Y_train = np_utils.to_categorical(y_train, 10)\n",
        "Y_test = np_utils.to_categorical(y_test, 10)"
      ],
      "execution_count": 0,
      "outputs": []
    },
    {
      "cell_type": "code",
      "metadata": {
        "id": "AehL5lb_j-bJ",
        "colab_type": "code",
        "colab": {}
      },
      "source": [
        "model = Sequential()"
      ],
      "execution_count": 0,
      "outputs": []
    },
    {
      "cell_type": "code",
      "metadata": {
        "id": "aJLF8AOdkKmf",
        "colab_type": "code",
        "colab": {}
      },
      "source": [
        "model.add(Dense(512, input_shape=(784,)))\n",
        "model.add(Activation('relu'))\n",
        "model.add(Dense(256))\n",
        "model.add(Activation('relu'))\n",
        "model.add(Dense(128))\n",
        "model.add(Activation('relu'))\n",
        "model.add(Dense(10))\n",
        "model.add(Activation('softmax'))"
      ],
      "execution_count": 0,
      "outputs": []
    },
    {
      "cell_type": "code",
      "metadata": {
        "id": "6nWNOIULq8Xc",
        "colab_type": "code",
        "colab": {}
      },
      "source": [
        "model.compile(loss='categorical_crossentropy',\n",
        "metrics=['accuracy'],optimizer='adam')"
      ],
      "execution_count": 0,
      "outputs": []
    },
    {
      "cell_type": "code",
      "metadata": {
        "id": "VYt1KTQxs21_",
        "colab_type": "code",
        "colab": {}
      },
      "source": [
        "model.fit(X_train, Y_train, batch_size=256, epochs=16, verbose=2, validation_data=(X_test, Y_test))"
      ],
      "execution_count": 0,
      "outputs": []
    },
    {
      "cell_type": "code",
      "metadata": {
        "id": "sqoZrRfYEsM-",
        "colab_type": "code",
        "colab": {}
      },
      "source": [
        "model.save('simple_dnn_with_keras.h5')\n",
        "del model"
      ],
      "execution_count": 0,
      "outputs": []
    },
    {
      "cell_type": "code",
      "metadata": {
        "id": "UC1hGb1YE9kU",
        "colab_type": "code",
        "colab": {}
      },
      "source": [
        "#Your saved model path should be inserted here\n",
        "simple_dnn = load_model('simple_dnn_with_keras.h5')\n",
        "accuracy_loss = simple_dnn.evaluate(X_test, Y_test, verbose=2)\n",
        "print(\"Test Loss\", accuracy_loss[0])\n",
        "print(\"Test Accuracy\", accuracy_loss[1])"
      ],
      "execution_count": 0,
      "outputs": []
    },
    {
      "cell_type": "code",
      "metadata": {
        "id": "yDkQzfuYFrst",
        "colab_type": "code",
        "colab": {}
      },
      "source": [
        "import matplotlib.pyplot as plt\n",
        "image_number= 2500\n",
        "print(\"The label for the image being displayed is:\")\n",
        "print(y_train[image_number])\n",
        "plt.imshow(x_train[image_number], cmap='Greys')"
      ],
      "execution_count": 0,
      "outputs": []
    }
  ]
}