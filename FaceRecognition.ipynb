{
  "nbformat": 4,
  "nbformat_minor": 0,
  "metadata": {
    "colab": {
      "name": "FaceRecognition.ipynb",
      "provenance": [],
      "collapsed_sections": []
    },
    "kernelspec": {
      "name": "python3",
      "display_name": "Python 3"
    },
    "accelerator": "GPU"
  },
  "cells": [
    {
      "cell_type": "code",
      "metadata": {
        "id": "McSuNqsV1pwO",
        "colab_type": "code",
        "colab": {}
      },
      "source": [
        "!pip install opencv-python\n",
        "!pip install cvlib"
      ],
      "execution_count": 0,
      "outputs": []
    },
    {
      "cell_type": "code",
      "metadata": {
        "id": "VRJHRdXD2Rhe",
        "colab_type": "code",
        "colab": {}
      },
      "source": [
        "from google.colab import files\n",
        "uploaded=files.upload()"
      ],
      "execution_count": 0,
      "outputs": []
    },
    {
      "cell_type": "code",
      "metadata": {
        "id": "sAQRLsG52HM-",
        "colab_type": "code",
        "colab": {}
      },
      "source": [
        "# import libraries\n",
        "import cv2\n",
        "import matplotlib.pyplot as plt\n",
        "import cvlib as cv\n",
        "im = cv2.imread('mariage.jpg')\n",
        "im= cv2.cvtColor(im, cv2.COLOR_BGR2RGB)\n",
        "plt.imshow(im)\n",
        "plt.show()"
      ],
      "execution_count": 0,
      "outputs": []
    },
    {
      "cell_type": "code",
      "metadata": {
        "id": "yyqciB2M4dc_",
        "colab_type": "code",
        "colab": {}
      },
      "source": [
        "faces, confidences = cv.detect_face(im)\n",
        "# loop through detected faces and add bounding box\n",
        "#faces= cv.detect_face(im)\n",
        "for face in faces:\n",
        "    (startX,startY) = face[0],face[1]\n",
        "    (endX,endY) = face[2],face[3]\n",
        "    # draw rectangle over face\n",
        "    cv2.rectangle(im, (startX,startY), (endX,endY), (0,255,0), 2)\n",
        "# display output        \n",
        "plt.imshow(im)\n",
        "plt.show()"
      ],
      "execution_count": 0,
      "outputs": []
    }
  ]
}