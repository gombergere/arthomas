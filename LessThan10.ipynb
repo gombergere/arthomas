{
  "nbformat": 4,
  "nbformat_minor": 0,
  "metadata": {
    "colab": {
      "name": "LessThan10.ipynb",
      "provenance": [],
      "collapsed_sections": []
    },
    "kernelspec": {
      "name": "python3",
      "display_name": "Python 3"
    },
    "accelerator": "GPU"
  },
  "cells": [
    {
      "cell_type": "code",
      "metadata": {
        "id": "NzAUJmK3fFRx",
        "colab_type": "code",
        "colab": {}
      },
      "source": [
        "#application de l'article suivant:\n",
        "# \"https://towardsdatascience.com/object-detection-with-less-than-10-lines-of-code-using-python-2d28eebc5b11\"\n",
        "\n",
        "# utilise la bibli \"cvlib.net\n",
        "# contient 80 objets courants\n",
        "# dans ce cas c'est ultra-simple"
      ],
      "execution_count": 0,
      "outputs": []
    },
    {
      "cell_type": "code",
      "metadata": {
        "id": "Xd3EXSLlX2A_",
        "colab_type": "code",
        "colab": {}
      },
      "source": [
        "!pip install opencv-python\n",
        "!pip install cvlib\n",
        "import cv2\n",
        "import cvlib as cv\n",
        "from cvlib.object_detection import draw_bbox\n",
        "%matplotlib inline\n",
        "import matplotlib.pyplot as plt"
      ],
      "execution_count": 0,
      "outputs": []
    },
    {
      "cell_type": "code",
      "metadata": {
        "id": "2lkMx0WUVXUC",
        "colab_type": "code",
        "colab": {}
      },
      "source": [
        "from google.colab import files\n",
        "uploaded=files.upload()"
      ],
      "execution_count": 0,
      "outputs": []
    },
    {
      "cell_type": "code",
      "metadata": {
        "id": "nh8kzDevh7zW",
        "colab_type": "code",
        "colab": {}
      },
      "source": [
        "im = cv2.imread('apple.jpg')\n",
        "im= cv2.cvtColor(im, cv2.COLOR_BGR2RGB)\n",
        "plt.imshow(im)\n",
        "plt.show()"
      ],
      "execution_count": 0,
      "outputs": []
    },
    {
      "cell_type": "code",
      "metadata": {
        "id": "vR2wB9-BbATt",
        "colab_type": "code",
        "colab": {}
      },
      "source": [
        "bbox, label, conf = cv.detect_common_objects(im)\n",
        "output= draw_bbox(im, bbox, label, conf)\n",
        "plt.imshow(output)\n",
        "plt.show()\n"
      ],
      "execution_count": 0,
      "outputs": []
    }
  ]
}